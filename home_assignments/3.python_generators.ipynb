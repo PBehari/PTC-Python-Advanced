{
 "cells": [
  {
   "cell_type": "markdown",
   "id": "4c12d60f",
   "metadata": {},
   "source": [
    "## Assignment 3: Python Generators"
   ]
  },
  {
   "cell_type": "markdown",
   "id": "25ef9858",
   "metadata": {},
   "source": [
    "### Task 1: Even Number Generator"
   ]
  },
  {
   "cell_type": "markdown",
   "id": "cd89debe",
   "metadata": {},
   "source": [
    "**Task:**\n",
    "- Create a generator `even_numbers(limit)` that yields even numbers up to a given limit (inclusive)."
   ]
  },
  {
   "cell_type": "markdown",
   "id": "7c64776b",
   "metadata": {},
   "source": [
    "**Answer**"
   ]
  },
  {
   "cell_type": "code",
   "execution_count": null,
   "id": "2bad2bbb",
   "metadata": {},
   "outputs": [],
   "source": [
    "# Answer here ...."
   ]
  },
  {
   "cell_type": "markdown",
   "id": "fcf53a4f",
   "metadata": {},
   "source": [
    "### Task 2: Infinite Counter Generator"
   ]
  },
  {
   "cell_type": "markdown",
   "id": "f3a029f9",
   "metadata": {},
   "source": [
    "**Task:**\n",
    "- Write a generator `counter(start)` that yields an infinite sequence of numbers starting from `start`.\n",
    "- **Hint:** Use a `while True` loop."
   ]
  },
  {
   "cell_type": "markdown",
   "id": "6b4319e2",
   "metadata": {},
   "source": [
    "**Answer**"
   ]
  },
  {
   "cell_type": "code",
   "execution_count": null,
   "id": "d7e2c292",
   "metadata": {},
   "outputs": [],
   "source": [
    "# Answer here ...."
   ]
  },
  {
   "cell_type": "markdown",
   "id": "2e878687",
   "metadata": {},
   "source": [
    "### Task 3: Fibonacci Generator"
   ]
  },
  {
   "cell_type": "markdown",
   "id": "1addbfa8",
   "metadata": {},
   "source": [
    "**Task:**\n",
    "- Write a generator `get_fibonacci_numbers(n)` that yields the first `n` Fibonacci numbers."
   ]
  },
  {
   "cell_type": "markdown",
   "id": "a461b2dd",
   "metadata": {},
   "source": [
    "**Answer**"
   ]
  },
  {
   "cell_type": "code",
   "execution_count": null,
   "id": "246c199b",
   "metadata": {},
   "outputs": [],
   "source": [
    "# Answer here ...."
   ]
  }
 ],
 "metadata": {
  "language_info": {
   "name": "python"
  }
 },
 "nbformat": 4,
 "nbformat_minor": 5
}
