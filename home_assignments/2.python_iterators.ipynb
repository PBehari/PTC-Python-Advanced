{
 "cells": [
  {
   "cell_type": "markdown",
   "id": "420d66dd",
   "metadata": {},
   "source": [
    "## Assignment 2: Python Iterators"
   ]
  },
  {
   "cell_type": "markdown",
   "id": "a8a57b0e",
   "metadata": {},
   "source": [
    "### Task 1: Basic Iterators"
   ]
  },
  {
   "cell_type": "markdown",
   "id": "affe0cbc",
   "metadata": {},
   "source": [
    "**Task:** \n",
    "- Create a list of integers and manually iterate through it using `iter()` and `next()`."
   ]
  },
  {
   "cell_type": "markdown",
   "id": "eb348199",
   "metadata": {},
   "source": [
    "**Answer**"
   ]
  },
  {
   "cell_type": "code",
   "execution_count": null,
   "id": "e52c5c2c",
   "metadata": {},
   "outputs": [],
   "source": [
    "# Answer here ...."
   ]
  },
  {
   "cell_type": "markdown",
   "id": "16e51397",
   "metadata": {},
   "source": [
    "### Task 2: Custom Iterator Class"
   ]
  },
  {
   "cell_type": "markdown",
   "id": "16d8de8b",
   "metadata": {},
   "source": [
    "**Task:**\n",
    "- Write a class `CountDown` that takes a number `n` and returns the numbers from `n` to 1 when iterated."
   ]
  },
  {
   "cell_type": "markdown",
   "id": "aef96ecb",
   "metadata": {},
   "source": [
    "**Answer**"
   ]
  },
  {
   "cell_type": "code",
   "execution_count": null,
   "id": "0902bab7",
   "metadata": {},
   "outputs": [],
   "source": [
    "# Answer here ...."
   ]
  },
  {
   "cell_type": "markdown",
   "id": "75c64f96",
   "metadata": {},
   "source": [
    "### Task 3: Using Iterator with a File"
   ]
  },
  {
   "cell_type": "markdown",
   "id": "e96bc4c7",
   "metadata": {},
   "source": [
    "**Task:**\n",
    "- Open a text file and read lines using an iterator."
   ]
  },
  {
   "cell_type": "markdown",
   "id": "d387ce71",
   "metadata": {},
   "source": [
    "**Answer**"
   ]
  },
  {
   "cell_type": "code",
   "execution_count": null,
   "id": "b59df37e",
   "metadata": {},
   "outputs": [],
   "source": [
    "# Answer here ...."
   ]
  },
  {
   "cell_type": "markdown",
   "id": "23e07e12",
   "metadata": {},
   "source": [
    "### Task 4: Create a Custom Range Iterator"
   ]
  },
  {
   "cell_type": "markdown",
   "id": "da7ddfb9",
   "metadata": {},
   "source": [
    "**Task:**\n",
    "- Build a class like Python's `range(start, stop)`."
   ]
  },
  {
   "cell_type": "markdown",
   "id": "cfcce071",
   "metadata": {},
   "source": [
    "**Answer**"
   ]
  },
  {
   "cell_type": "code",
   "execution_count": null,
   "id": "54b636c4",
   "metadata": {},
   "outputs": [],
   "source": [
    "# Answer here ...."
   ]
  }
 ],
 "metadata": {
  "language_info": {
   "name": "python"
  }
 },
 "nbformat": 4,
 "nbformat_minor": 5
}
