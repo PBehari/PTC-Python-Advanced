{
 "cells": [
  {
   "cell_type": "markdown",
   "id": "4c12d60f",
   "metadata": {},
   "source": [
    "## Assignment 4: Functional Programming"
   ]
  },
  {
   "cell_type": "markdown",
   "id": "25ef9858",
   "metadata": {},
   "source": [
    "### Task 1: Pure Function"
   ]
  },
  {
   "cell_type": "markdown",
   "id": "cd89debe",
   "metadata": {},
   "source": [
    "**Task:**\n",
    "- Write a pure function `square_numbers()` that takes a list of numbers and returns a new list with the square of each number."
   ]
  },
  {
   "cell_type": "markdown",
   "id": "7c64776b",
   "metadata": {},
   "source": [
    "**Answer**"
   ]
  },
  {
   "cell_type": "code",
   "execution_count": null,
   "id": "2bad2bbb",
   "metadata": {},
   "outputs": [],
   "source": [
    "# Answer here ...."
   ]
  },
  {
   "cell_type": "markdown",
   "id": "fcf53a4f",
   "metadata": {},
   "source": [
    "### Task 2: Using `map()` and `lambda`"
   ]
  },
  {
   "cell_type": "markdown",
   "id": "f3a029f9",
   "metadata": {},
   "source": [
    "**Task:**\n",
    "- Use `map()` and a `lambda` function to convert a list of Celsius temperatures to Fahrenheit."
   ]
  },
  {
   "cell_type": "markdown",
   "id": "6b4319e2",
   "metadata": {},
   "source": [
    "**Answer**"
   ]
  },
  {
   "cell_type": "code",
   "execution_count": null,
   "id": "d7e2c292",
   "metadata": {},
   "outputs": [],
   "source": [
    "# Answer here ...."
   ]
  },
  {
   "cell_type": "markdown",
   "id": "2e878687",
   "metadata": {},
   "source": [
    "### Task 3: Filter Even Numbers"
   ]
  },
  {
   "cell_type": "markdown",
   "id": "1addbfa8",
   "metadata": {},
   "source": [
    "**Task:**\n",
    "- Use `filter()` and `lambda` to filter out only even numbers from the list `[1, 2, 3, 4, 5, 6]`."
   ]
  },
  {
   "cell_type": "markdown",
   "id": "a461b2dd",
   "metadata": {},
   "source": [
    "**Answer**"
   ]
  },
  {
   "cell_type": "code",
   "execution_count": null,
   "id": "246c199b",
   "metadata": {},
   "outputs": [],
   "source": [
    "# Answer here ...."
   ]
  },
  {
   "cell_type": "markdown",
   "id": "5946ad6b",
   "metadata": {},
   "source": [
    "### Task 4: Reduce – Product of List"
   ]
  },
  {
   "cell_type": "markdown",
   "id": "12bf6f06",
   "metadata": {},
   "source": [
    "**Task:**\n",
    "- Use `reduce()` to compute the product of the list `[1, 2, 3, 4]`."
   ]
  },
  {
   "cell_type": "markdown",
   "id": "30d9e82d",
   "metadata": {},
   "source": [
    "**Answer**"
   ]
  },
  {
   "cell_type": "code",
   "execution_count": null,
   "id": "5be1db3a",
   "metadata": {},
   "outputs": [],
   "source": [
    "# Answer here ...."
   ]
  },
  {
   "cell_type": "markdown",
   "id": "b0b8f778",
   "metadata": {},
   "source": [
    "### Task 5: Higher-Order Function"
   ]
  },
  {
   "cell_type": "markdown",
   "id": "f92e211a",
   "metadata": {},
   "source": [
    "**Task:**\n",
    "- Write a function `apply_function` that takes a `function` and a `list`, and applies that `function` to each element."
   ]
  },
  {
   "cell_type": "markdown",
   "id": "d6c0aea0",
   "metadata": {},
   "source": [
    "**Answer**"
   ]
  },
  {
   "cell_type": "code",
   "execution_count": null,
   "id": "4bcc9a82",
   "metadata": {},
   "outputs": [],
   "source": [
    "# Answer here ...."
   ]
  },
  {
   "cell_type": "markdown",
   "id": "f244cbe0",
   "metadata": {},
   "source": [
    "### Task 6: Recursion (Factorial)"
   ]
  },
  {
   "cell_type": "markdown",
   "id": "d1f374d8",
   "metadata": {},
   "source": [
    "**Task:**\n",
    "- Write a recursive function to compute the factorial of a number."
   ]
  },
  {
   "cell_type": "markdown",
   "id": "84f36ef1",
   "metadata": {},
   "source": [
    "**Answer**"
   ]
  },
  {
   "cell_type": "code",
   "execution_count": null,
   "id": "098bc20a",
   "metadata": {},
   "outputs": [],
   "source": [
    "# Answer here ...."
   ]
  }
 ],
 "metadata": {
  "language_info": {
   "name": "python"
  }
 },
 "nbformat": 4,
 "nbformat_minor": 5
}
