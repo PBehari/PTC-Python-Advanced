{
 "cells": [
  {
   "cell_type": "markdown",
   "id": "be18b1d9",
   "metadata": {},
   "source": [
    "## Assignment 1: Python Classes"
   ]
  },
  {
   "cell_type": "markdown",
   "id": "f282ae58",
   "metadata": {},
   "source": [
    "### Task 1: Define a Class"
   ]
  },
  {
   "cell_type": "markdown",
   "id": "11dd48fa",
   "metadata": {},
   "source": [
    "**Task:**\n",
    "- Create a class `Car` with attributes `brand`, `model`, and `year`.\n",
    "- Add a method `start_engine()` that prints \"The engine is starting...\"."
   ]
  },
  {
   "cell_type": "markdown",
   "id": "13816d7d",
   "metadata": {},
   "source": [
    "**Expected Output:**\n",
    "```python\n",
    "my_car = Car(\"Toyota\", \"Corolla\", 2022)\n",
    "my_car.start_engine()\n",
    "# Output: The engine is starting...\n",
    "```"
   ]
  },
  {
   "cell_type": "markdown",
   "id": "66a4d253",
   "metadata": {},
   "source": [
    "**Answer**"
   ]
  },
  {
   "cell_type": "code",
   "execution_count": 1,
   "id": "f1521c32",
   "metadata": {},
   "outputs": [
    {
     "name": "stdout",
     "output_type": "stream",
     "text": [
      "The engine is starting...\n"
     ]
    }
   ],
   "source": [
    "class Car:\n",
    "    def __init__(self, brand, model, year):\n",
    "        self.brand = brand\n",
    "        self.model = model\n",
    "        self.year = year\n",
    "\n",
    "    def start_engine(self):\n",
    "        print(\"The engine is starting...\")\n",
    "\n",
    "my_car = Car(\"Toyota\", \"Corolla\", 2022)\n",
    "my_car.start_engine()"
   ]
  },
  {
   "cell_type": "markdown",
   "id": "791c72e5",
   "metadata": {},
   "source": [
    "### Task 2: Add a Method"
   ]
  },
  {
   "cell_type": "markdown",
   "id": "e26069b5",
   "metadata": {},
   "source": [
    "**Task:**\n",
    "- Extend the `Car` class. Add a method `get_description()` that returns a string like: \"Toyota Corolla (2022)\"."
   ]
  },
  {
   "cell_type": "markdown",
   "id": "63e2c01c",
   "metadata": {},
   "source": [
    "**Expected Output:**\n",
    "```python\n",
    "print(my_car.get_description())\n",
    "# Output: Toyota Corolla (2022)\n",
    "```"
   ]
  },
  {
   "cell_type": "markdown",
   "id": "1f9964b3",
   "metadata": {},
   "source": [
    "**Answer**"
   ]
  },
  {
   "cell_type": "code",
   "execution_count": 2,
   "id": "fef6d7f9",
   "metadata": {},
   "outputs": [
    {
     "name": "stdout",
     "output_type": "stream",
     "text": [
      "Toyota Corolla (2022)\n"
     ]
    }
   ],
   "source": [
    "class Car:\n",
    "    def __init__(self, brand, model, year):\n",
    "        self.brand = brand\n",
    "        self.model = model\n",
    "        self.year = year\n",
    "\n",
    "    def start_engine(self):\n",
    "        print(\"The engine is starting...\")\n",
    "\n",
    "    def get_description(self):\n",
    "        return f\"{self.brand} {self.model} ({self.year})\"\n",
    "\n",
    "my_car = Car(\"Toyota\", \"Corolla\", 2022)\n",
    "\n",
    "print(my_car.get_description())"
   ]
  },
  {
   "cell_type": "markdown",
   "id": "7e42e4fc",
   "metadata": {},
   "source": [
    "### Task 3: Multiple Objects"
   ]
  },
  {
   "cell_type": "markdown",
   "id": "46517f5a",
   "metadata": {},
   "source": [
    "**Task:**\n",
    "- Create 2 Car objects and print their descriptions using the method from Task 2."
   ]
  },
  {
   "cell_type": "markdown",
   "id": "76e4d6e1",
   "metadata": {},
   "source": [
    "**Answer**"
   ]
  },
  {
   "cell_type": "code",
   "execution_count": 7,
   "id": "e50ed042",
   "metadata": {},
   "outputs": [
    {
     "name": "stdout",
     "output_type": "stream",
     "text": [
      "Toyota Corolla (2021)\n",
      "Ford Raptor (2023)\n"
     ]
    }
   ],
   "source": [
    "car1 = Car(\"Toyota\", \"Corolla\", 2021)\n",
    "car2 = Car(\"Ford\", \"Raptor\", 2023)\n",
    "\n",
    "print(car1.get_description())\n",
    "print(car2.get_description())"
   ]
  },
  {
   "cell_type": "markdown",
   "id": "53b96d24",
   "metadata": {},
   "source": [
    "### Task 4: Student Average Grade"
   ]
  },
  {
   "cell_type": "markdown",
   "id": "2d7fa230",
   "metadata": {},
   "source": [
    "**Task:**\n",
    "- Create a `Student` class with attributes `name` and `grades` (a list).\n",
    "- Add a method `calculate_grades_avg()` that returns the average grade."
   ]
  },
  {
   "cell_type": "markdown",
   "id": "eb8adc0c",
   "metadata": {},
   "source": [
    "**Expected Output:**\n",
    "```python\n",
    "stud1 = Student(\"Bob\", [55, 85, 75, 45])\n",
    "print(stud1.calculate_grades_avg())\n",
    "# Output: 65.0\n",
    "```"
   ]
  },
  {
   "cell_type": "markdown",
   "id": "32e586d3",
   "metadata": {},
   "source": [
    "**Answer**"
   ]
  },
  {
   "cell_type": "code",
   "execution_count": 6,
   "id": "0a01ff49",
   "metadata": {},
   "outputs": [
    {
     "name": "stdout",
     "output_type": "stream",
     "text": [
      "65.0\n"
     ]
    }
   ],
   "source": [
    "class Student:\n",
    "    def __init__(self, name, grades):\n",
    "        self.name = name\n",
    "        self.grades = grades\n",
    "\n",
    "    def calculate_grades_avg(self):\n",
    "        return sum(self.grades) / len(self.grades)\n",
    "\n",
    "stud1 = Student(\"Bob\", [55, 85, 75, 45])\n",
    "print(stud1.calculate_grades_avg())"
   ]
  }
 ],
 "metadata": {
  "kernelspec": {
   "display_name": "Python 3",
   "language": "python",
   "name": "python3"
  },
  "language_info": {
   "codemirror_mode": {
    "name": "ipython",
    "version": 3
   },
   "file_extension": ".py",
   "mimetype": "text/x-python",
   "name": "python",
   "nbconvert_exporter": "python",
   "pygments_lexer": "ipython3",
   "version": "3.11.8"
  }
 },
 "nbformat": 4,
 "nbformat_minor": 5
}
