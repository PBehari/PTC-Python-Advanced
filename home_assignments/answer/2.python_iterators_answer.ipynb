{
 "cells": [
  {
   "cell_type": "markdown",
   "id": "420d66dd",
   "metadata": {},
   "source": [
    "## Assignment 2: Python Iterators"
   ]
  },
  {
   "cell_type": "markdown",
   "id": "a8a57b0e",
   "metadata": {},
   "source": [
    "### Task 1: Basic Iterators"
   ]
  },
  {
   "cell_type": "markdown",
   "id": "affe0cbc",
   "metadata": {},
   "source": [
    "**Task:** \n",
    "- Create a list of integers and manually iterate through it using `iter()` and `next()`."
   ]
  },
  {
   "cell_type": "markdown",
   "id": "eb348199",
   "metadata": {},
   "source": [
    "**Answer**"
   ]
  },
  {
   "cell_type": "code",
   "execution_count": 1,
   "id": "e52c5c2c",
   "metadata": {},
   "outputs": [
    {
     "name": "stdout",
     "output_type": "stream",
     "text": [
      "10\n",
      "4\n",
      "9\n",
      "8\n"
     ]
    }
   ],
   "source": [
    "numbers_list = [10, 4, 9, 8]\n",
    "\n",
    "it = iter(numbers_list)\n",
    "\n",
    "print(next(it))  # 10\n",
    "print(next(it))  # 4\n",
    "print(next(it))  # 9\n",
    "print(next(it))  # 8"
   ]
  },
  {
   "cell_type": "markdown",
   "id": "16e51397",
   "metadata": {},
   "source": [
    "### Task 2: Custom Iterator Class"
   ]
  },
  {
   "cell_type": "markdown",
   "id": "16d8de8b",
   "metadata": {},
   "source": [
    "**Task:**\n",
    "- Write a class `CountDown` that takes a number `n` and returns the numbers from `n` to 1 when iterated."
   ]
  },
  {
   "cell_type": "markdown",
   "id": "aef96ecb",
   "metadata": {},
   "source": [
    "**Answer**"
   ]
  },
  {
   "cell_type": "code",
   "execution_count": null,
   "id": "0902bab7",
   "metadata": {},
   "outputs": [
    {
     "name": "stdout",
     "output_type": "stream",
     "text": [
      "5\n",
      "4\n",
      "3\n",
      "2\n",
      "1\n"
     ]
    }
   ],
   "source": [
    "class CountDown:\n",
    "    def __init__(self, start):\n",
    "        self.current = start\n",
    "\n",
    "    def __iter__(self):\n",
    "        return self\n",
    "\n",
    "    def __next__(self):\n",
    "        if self.current <= 0:\n",
    "            raise StopIteration\n",
    "\n",
    "        value = self.current\n",
    "        self.current -= 1\n",
    "        return value\n",
    "\n",
    "\n",
    "for num in CountDown(5):\n",
    "    print(num) # 5 4 3 2 1"
   ]
  },
  {
   "cell_type": "markdown",
   "id": "75c64f96",
   "metadata": {},
   "source": [
    "### Task 3: Using Iterator with a File"
   ]
  },
  {
   "cell_type": "markdown",
   "id": "e96bc4c7",
   "metadata": {},
   "source": [
    "**Task:**\n",
    "- Open a text file and read lines using an iterator."
   ]
  },
  {
   "cell_type": "markdown",
   "id": "d387ce71",
   "metadata": {},
   "source": [
    "**Answer**"
   ]
  },
  {
   "cell_type": "code",
   "execution_count": null,
   "id": "b59df37e",
   "metadata": {},
   "outputs": [
    {
     "name": "stdout",
     "output_type": "stream",
     "text": [
      "1. Ad Vitam\n",
      "2. Back in Action\n",
      "3. The Sand Castle\n",
      "4. Demon City\n",
      "5. The Wrong Track\n"
     ]
    }
   ],
   "source": [
    "with open('netflix_movies.txt', 'r') as file:\n",
    "    file_iterator = iter(file)\n",
    "    for line in file_iterator:\n",
    "        print(line.strip())"
   ]
  },
  {
   "cell_type": "markdown",
   "id": "23e07e12",
   "metadata": {},
   "source": [
    "### Task 4: Create a Custom Range Iterator"
   ]
  },
  {
   "cell_type": "markdown",
   "id": "da7ddfb9",
   "metadata": {},
   "source": [
    "**Task:**\n",
    "- Build a class like Python's `range(start, stop)`."
   ]
  },
  {
   "cell_type": "markdown",
   "id": "cfcce071",
   "metadata": {},
   "source": [
    "**Answer**"
   ]
  },
  {
   "cell_type": "code",
   "execution_count": 4,
   "id": "54b636c4",
   "metadata": {},
   "outputs": [
    {
     "name": "stdout",
     "output_type": "stream",
     "text": [
      "3\n",
      "4\n",
      "5\n",
      "6\n"
     ]
    }
   ],
   "source": [
    "class CustomRange:\n",
    "    def __init__(self, start, stop):\n",
    "        self.current = start\n",
    "        self.stop = stop\n",
    "\n",
    "    def __iter__(self):\n",
    "        return self\n",
    "\n",
    "    def __next__(self):\n",
    "        if self.current >= self.stop:\n",
    "            raise StopIteration\n",
    "        val = self.current\n",
    "        self.current += 1\n",
    "        return val\n",
    "\n",
    "for number in CustomRange(3, 7):\n",
    "    print(number)  # 3 4 5 6\n"
   ]
  }
 ],
 "metadata": {
  "kernelspec": {
   "display_name": "Python 3",
   "language": "python",
   "name": "python3"
  },
  "language_info": {
   "codemirror_mode": {
    "name": "ipython",
    "version": 3
   },
   "file_extension": ".py",
   "mimetype": "text/x-python",
   "name": "python",
   "nbconvert_exporter": "python",
   "pygments_lexer": "ipython3",
   "version": "3.11.8"
  }
 },
 "nbformat": 4,
 "nbformat_minor": 5
}
