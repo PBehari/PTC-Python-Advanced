{
 "cells": [
  {
   "cell_type": "markdown",
   "id": "4c12d60f",
   "metadata": {},
   "source": [
    "## Assignment 4: Functional Programming"
   ]
  },
  {
   "cell_type": "markdown",
   "id": "25ef9858",
   "metadata": {},
   "source": [
    "### Task 1: Pure Function"
   ]
  },
  {
   "cell_type": "markdown",
   "id": "cd89debe",
   "metadata": {},
   "source": [
    "**Task:**\n",
    "- Write a pure function `square_numbers()` that takes a list of numbers and returns a new list with the square of each number."
   ]
  },
  {
   "cell_type": "markdown",
   "id": "7c64776b",
   "metadata": {},
   "source": [
    "**Answer**"
   ]
  },
  {
   "cell_type": "code",
   "execution_count": 1,
   "id": "2bad2bbb",
   "metadata": {},
   "outputs": [
    {
     "name": "stdout",
     "output_type": "stream",
     "text": [
      "[1, 4, 9, 16, 25, 36]\n"
     ]
    }
   ],
   "source": [
    "def square_numbers(numbers):\n",
    "    # Longer version\n",
    "    # values = []\n",
    "    # for number in numbers:\n",
    "    #     values.append(number**2)\n",
    "\n",
    "    return [number**2 for number in numbers]\n",
    "\n",
    "# Creat e your numbers list\n",
    "numbers = [1, 2, 3, 4, 5, 6]\n",
    "\n",
    "print(square_numbers(numbers))"
   ]
  },
  {
   "cell_type": "markdown",
   "id": "fcf53a4f",
   "metadata": {},
   "source": [
    "### Task 2: Using `map()` and `lambda`"
   ]
  },
  {
   "cell_type": "markdown",
   "id": "f3a029f9",
   "metadata": {},
   "source": [
    "**Task:**\n",
    "- Use `map()` and a `lambda` function to convert a list of Celsius temperatures to Fahrenheit."
   ]
  },
  {
   "cell_type": "markdown",
   "id": "6b4319e2",
   "metadata": {},
   "source": [
    "**Answer**"
   ]
  },
  {
   "cell_type": "code",
   "execution_count": 4,
   "id": "d7e2c292",
   "metadata": {},
   "outputs": [
    {
     "name": "stdout",
     "output_type": "stream",
     "text": [
      "[32.0, 50.0, 68.0, 86.0, 104.0, 122.0]\n"
     ]
    }
   ],
   "source": [
    "# Create celsius list\n",
    "celsius_list = [0, 10, 20, 30, 40, 50]\n",
    "\n",
    "fahrenheit = map(lambda x: (x * 9/5) + 32, celsius_list)\n",
    "\n",
    "print(list(fahrenheit))"
   ]
  },
  {
   "cell_type": "markdown",
   "id": "2e878687",
   "metadata": {},
   "source": [
    "### Task 3: Filter Even Numbers"
   ]
  },
  {
   "cell_type": "markdown",
   "id": "1addbfa8",
   "metadata": {},
   "source": [
    "**Task:**\n",
    "- Use `filter()` and `lambda` to filter out only even numbers from the list `[1, 2, 3, 4, 5, 6]`."
   ]
  },
  {
   "cell_type": "markdown",
   "id": "a461b2dd",
   "metadata": {},
   "source": [
    "**Answer**"
   ]
  },
  {
   "cell_type": "code",
   "execution_count": null,
   "id": "246c199b",
   "metadata": {},
   "outputs": [
    {
     "name": "stdout",
     "output_type": "stream",
     "text": [
      "[2, 4, 6]\n"
     ]
    }
   ],
   "source": [
    "# Create numbers list\n",
    "numbers = [1, 2, 3, 4, 5, 6]\n",
    "\n",
    "even_numbers = filter(lambda x: x % 2 == 0, numbers)\n",
    "\n",
    "print(list(even_numbers))"
   ]
  },
  {
   "cell_type": "markdown",
   "id": "5946ad6b",
   "metadata": {},
   "source": [
    "### Task 4: Reduce – Product of List"
   ]
  },
  {
   "cell_type": "markdown",
   "id": "12bf6f06",
   "metadata": {},
   "source": [
    "**Task:**\n",
    "- Use `reduce()` to compute the product of the list `[1, 2, 3, 4]`."
   ]
  },
  {
   "cell_type": "markdown",
   "id": "30d9e82d",
   "metadata": {},
   "source": [
    "**Answer**"
   ]
  },
  {
   "cell_type": "code",
   "execution_count": 5,
   "id": "5be1db3a",
   "metadata": {},
   "outputs": [
    {
     "name": "stdout",
     "output_type": "stream",
     "text": [
      "24\n"
     ]
    }
   ],
   "source": [
    "# import reduce method\n",
    "from functools import reduce\n",
    "\n",
    "# Define numbers list\n",
    "numbers = [1, 2, 3, 4]\n",
    "\n",
    "product = reduce(lambda x, y: x * y, numbers)\n",
    "\n",
    "print(product)"
   ]
  },
  {
   "cell_type": "markdown",
   "id": "b0b8f778",
   "metadata": {},
   "source": [
    "### Task 5: Higher-Order Function"
   ]
  },
  {
   "cell_type": "markdown",
   "id": "f92e211a",
   "metadata": {},
   "source": [
    "**Task:**\n",
    "- Write a function `apply_function` that takes a `function` and a `list`, and applies that `function` to each element."
   ]
  },
  {
   "cell_type": "markdown",
   "id": "d6c0aea0",
   "metadata": {},
   "source": [
    "**Answer**"
   ]
  },
  {
   "cell_type": "code",
   "execution_count": 6,
   "id": "4bcc9a82",
   "metadata": {},
   "outputs": [
    {
     "name": "stdout",
     "output_type": "stream",
     "text": [
      "[11, 12, 13, 14]\n"
     ]
    }
   ],
   "source": [
    "def apply_function(func, values):\n",
    "    return [func(value) for value in values]\n",
    "\n",
    "# Define numbers list\n",
    "numbers = [1, 2, 3, 4]\n",
    "\n",
    "results = apply_function(lambda x: x + 10, numbers)\n",
    "\n",
    "print(results)\n"
   ]
  },
  {
   "cell_type": "markdown",
   "id": "f244cbe0",
   "metadata": {},
   "source": [
    "### Task 6: Recursion (Factorial)"
   ]
  },
  {
   "cell_type": "markdown",
   "id": "d1f374d8",
   "metadata": {},
   "source": [
    "**Task:**\n",
    "- Write a recursive function to compute the factorial of a number."
   ]
  },
  {
   "cell_type": "markdown",
   "id": "84f36ef1",
   "metadata": {},
   "source": [
    "**Answer**"
   ]
  },
  {
   "cell_type": "code",
   "execution_count": null,
   "id": "098bc20a",
   "metadata": {},
   "outputs": [
    {
     "name": "stdout",
     "output_type": "stream",
     "text": [
      "120\n"
     ]
    }
   ],
   "source": [
    "def factorial(n):\n",
    "    if n == 0:\n",
    "        return 1\n",
    "    else:\n",
    "        return n * factorial(n-1)\n",
    "\n",
    "print(factorial(5))\n",
    "\n",
    "# 5 * 4 * 3 * 2 * 1"
   ]
  }
 ],
 "metadata": {
  "kernelspec": {
   "display_name": "Python 3",
   "language": "python",
   "name": "python3"
  },
  "language_info": {
   "codemirror_mode": {
    "name": "ipython",
    "version": 3
   },
   "file_extension": ".py",
   "mimetype": "text/x-python",
   "name": "python",
   "nbconvert_exporter": "python",
   "pygments_lexer": "ipython3",
   "version": "3.11.8"
  }
 },
 "nbformat": 4,
 "nbformat_minor": 5
}
