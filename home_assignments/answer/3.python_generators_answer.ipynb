{
 "cells": [
  {
   "cell_type": "markdown",
   "id": "4c12d60f",
   "metadata": {},
   "source": [
    "## Assignment 3: Python Generators"
   ]
  },
  {
   "cell_type": "markdown",
   "id": "25ef9858",
   "metadata": {},
   "source": [
    "### Task 1: Even Number Generator"
   ]
  },
  {
   "cell_type": "markdown",
   "id": "cd89debe",
   "metadata": {},
   "source": [
    "**Task:**\n",
    "- Create a generator `even_numbers(limit)` that yields even numbers up to a given limit (inclusive)."
   ]
  },
  {
   "cell_type": "markdown",
   "id": "7c64776b",
   "metadata": {},
   "source": [
    "**Answer**"
   ]
  },
  {
   "cell_type": "code",
   "execution_count": 5,
   "id": "2bad2bbb",
   "metadata": {},
   "outputs": [
    {
     "name": "stdout",
     "output_type": "stream",
     "text": [
      "[0, 2, 4, 6, 8, 10]\n"
     ]
    }
   ],
   "source": [
    "def even_numbers(limit):\n",
    "    for num in range(0, limit + 1, 2):\n",
    "        yield num\n",
    "\n",
    "print(list(even_numbers(10)))"
   ]
  },
  {
   "cell_type": "markdown",
   "id": "fcf53a4f",
   "metadata": {},
   "source": [
    "### Task 2: Infinite Counter Generator"
   ]
  },
  {
   "cell_type": "markdown",
   "id": "f3a029f9",
   "metadata": {},
   "source": [
    "**Task:**\n",
    "- Write a generator `counter(start)` that yields an infinite sequence of numbers starting from `start`.\n",
    "- **Hint:** Use a `while True` loop."
   ]
  },
  {
   "cell_type": "markdown",
   "id": "6b4319e2",
   "metadata": {},
   "source": [
    "**Answer**"
   ]
  },
  {
   "cell_type": "code",
   "execution_count": 7,
   "id": "d7e2c292",
   "metadata": {},
   "outputs": [
    {
     "name": "stdout",
     "output_type": "stream",
     "text": [
      "5\n",
      "6\n",
      "7\n",
      "8\n"
     ]
    }
   ],
   "source": [
    "def counter(start):\n",
    "    while True:\n",
    "        yield start\n",
    "        start += 1 # Increment by one\n",
    "\n",
    "# Example usage\n",
    "gen = counter(5)\n",
    "for number in range(4):\n",
    "    print(next(gen))"
   ]
  },
  {
   "cell_type": "markdown",
   "id": "2e878687",
   "metadata": {},
   "source": [
    "### Task 3: Fibonacci Generator"
   ]
  },
  {
   "cell_type": "markdown",
   "id": "1addbfa8",
   "metadata": {},
   "source": [
    "**Task:**\n",
    "- Write a generator `get_fibonacci_numbers(n)` that yields the first `n` Fibonacci numbers."
   ]
  },
  {
   "cell_type": "markdown",
   "id": "a461b2dd",
   "metadata": {},
   "source": [
    "**Answer**"
   ]
  },
  {
   "cell_type": "code",
   "execution_count": 8,
   "id": "246c199b",
   "metadata": {},
   "outputs": [
    {
     "name": "stdout",
     "output_type": "stream",
     "text": [
      "[0, 1, 1, 2, 3, 5]\n"
     ]
    }
   ],
   "source": [
    "def get_fibonacci_numbers(n):\n",
    "    a, b = 0, 1\n",
    "    for number in range(n):\n",
    "        yield a\n",
    "        a, b = b, a + b\n",
    "\n",
    "print(list(get_fibonacci_numbers(6)))"
   ]
  }
 ],
 "metadata": {
  "kernelspec": {
   "display_name": "Python 3",
   "language": "python",
   "name": "python3"
  },
  "language_info": {
   "codemirror_mode": {
    "name": "ipython",
    "version": 3
   },
   "file_extension": ".py",
   "mimetype": "text/x-python",
   "name": "python",
   "nbconvert_exporter": "python",
   "pygments_lexer": "ipython3",
   "version": "3.11.8"
  }
 },
 "nbformat": 4,
 "nbformat_minor": 5
}
