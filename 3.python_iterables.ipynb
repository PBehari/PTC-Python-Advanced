{
 "cells": [
  {
   "cell_type": "markdown",
   "metadata": {},
   "source": [
    "<h5><b>Python Iterators</b></h5>\n",
    "Source: https://www.datacamp.com/tutorial/python-iterators-generators-tutorial"
   ]
  },
  {
   "cell_type": "code",
   "execution_count": null,
   "metadata": {},
   "outputs": [],
   "source": [
    "### Python Iterators\n",
    "#\n",
    "### Iterable:\n",
    "# A Python object which can be looped over or iterated over in a loop.\n",
    "# Examples of iterables include lists, sets, tuples, dictionaries, strings, etc.\n",
    "#\n",
    "### Iterator:\n",
    "# An iterator is an object that can be iterated upon. Thus, iterators contain a countable number of values. \n",
    "\n",
    "# Note: Every iterator is also an iterable, but not every iterable is an iterator in Python."
   ]
  },
  {
   "cell_type": "code",
   "execution_count": 7,
   "metadata": {},
   "outputs": [
    {
     "name": "stdout",
     "output_type": "stream",
     "text": [
      "<list_iterator object at 0x106522620>\n",
      "1\n",
      "2\n",
      "3\n",
      "4\n"
     ]
    },
    {
     "ename": "StopIteration",
     "evalue": "",
     "output_type": "error",
     "traceback": [
      "\u001b[0;31m---------------------------------------------------------------------------\u001b[0m",
      "\u001b[0;31mStopIteration\u001b[0m                             Traceback (most recent call last)",
      "Cell \u001b[0;32mIn[7], line 34\u001b[0m\n\u001b[1;32m     29\u001b[0m \u001b[38;5;28mprint\u001b[39m(\u001b[38;5;28mnext\u001b[39m(numbers_list_iter)) \u001b[38;5;66;03m# Prints 4\u001b[39;00m\n\u001b[1;32m     31\u001b[0m \u001b[38;5;66;03m# What happens when you add one more print line below?\u001b[39;00m\n\u001b[1;32m     32\u001b[0m \n\u001b[1;32m     33\u001b[0m \u001b[38;5;66;03m# Get the fourth item of the ierator\u001b[39;00m\n\u001b[0;32m---> 34\u001b[0m \u001b[38;5;28mprint\u001b[39m(\u001b[38;5;28;43mnext\u001b[39;49m\u001b[43m(\u001b[49m\u001b[43mnumbers_list_iter\u001b[49m\u001b[43m)\u001b[49m) \u001b[38;5;66;03m# Prints 4\u001b[39;00m\n",
      "\u001b[0;31mStopIteration\u001b[0m: "
     ]
    }
   ],
   "source": [
    "# Example 1: Iterable\n",
    "\n",
    "# Create a list instance\n",
    "# This list is iterable, but we need an iterator to iterate over each item in the list\n",
    "numbers_list = [1, 2, 3, 4]\n",
    "\n",
    "# For that we will use the built-in \"iter()\" function on the list\n",
    "numbers_list_iter = iter(numbers_list)\n",
    "\n",
    "# Print the iterator list and you will see it is of type \"list_iterator\" object\n",
    "print(numbers_list_iter)\n",
    "\n",
    "# Now print each item in the iterator object by calling the built-in \"next()\"\n",
    "# function on the iterator list object.\n",
    "# You may have noticed that you need to call the \"next()\" function every time to get the\n",
    "# next item in the iterator list object. We can automate this by using python loops,\n",
    "# see next cell.\n",
    "\n",
    "# Get the first item of the ierator\n",
    "print(next(numbers_list_iter)) # Prints 1\n",
    "\n",
    "# Get the second item of the ierator\n",
    "print(next(numbers_list_iter)) # Prints 2\n",
    "\n",
    "# Get the third item of the ierator\n",
    "print(next(numbers_list_iter)) # Prints 3\n",
    "\n",
    "# Get the fourth item of the ierator\n",
    "print(next(numbers_list_iter)) # Prints 4\n",
    "\n",
    "# What happens when you add one more print line below?\n",
    "\n",
    "# Get the fourth item of the ierator\n",
    "print(next(numbers_list_iter)) # Prints 4\n"
   ]
  },
  {
   "cell_type": "code",
   "execution_count": 8,
   "metadata": {},
   "outputs": [
    {
     "name": "stdout",
     "output_type": "stream",
     "text": [
      "1\n",
      "2\n",
      "3\n",
      "4\n"
     ]
    }
   ],
   "source": [
    "# Example 2: Python automatically produces an iterator object whenever you attempt to loop through an iterable object. \n",
    "\n",
    "# Create a list instance\n",
    "numbers_list = [1, 2, 3, 4]\n",
    "\n",
    "# loop through the list\n",
    "for number in numbers_list:\n",
    "    print(number)\n",
    "\n",
    "# As we can see in the above code we don't need to use the \"iter()\" and the \"next()\"\n",
    "# functions to print each items in the list. The python for loop does this automatically\n",
    "# for us in the background."
   ]
  },
  {
   "cell_type": "code",
   "execution_count": null,
   "metadata": {},
   "outputs": [],
   "source": [
    "### How to build Custom Iterators\n",
    "#\n",
    "# It is easy to build a custom iterator in Python. We just have to implement\n",
    "# the \"__iter__()\" and the \"__next__()\" methods:\n",
    "#   - __iter__(): return the iterator object itself. If required, some initialization can be performed.\n",
    "#   - __next__(): must return the next item in the sequence. On reaching the end, and in subsequent calls, it must raise \"StopIteration\""
   ]
  },
  {
   "cell_type": "code",
   "execution_count": 9,
   "metadata": {},
   "outputs": [
    {
     "name": "stdout",
     "output_type": "stream",
     "text": [
      "1\n",
      "2\n",
      "3\n",
      "4\n"
     ]
    }
   ],
   "source": [
    "### Example of Custom Iterator\n",
    "# This is a simple example how you can create a custom iterator\n",
    "# This iterator will increment the number by one on each call\n",
    "\n",
    "# Create a custom class\n",
    "class MyNumbersIterator:\n",
    "\n",
    "    def __iter__(self):\n",
    "        # Set initial value for our number variable\n",
    "        # In this case it is 1\n",
    "        self.number = 1\n",
    "        return self\n",
    "    \n",
    "    def __next__(self):\n",
    "        # Get the current number from the number variable\n",
    "        number = self.number\n",
    "        # Increment the current number by one\n",
    "        self.number += 1\n",
    "        # self.number = self.number + 1\n",
    "        # Return the current number\n",
    "        return number\n",
    "\n",
    "# Create an Object\n",
    "mynumbersobj = MyNumbersIterator()\n",
    "\n",
    "# Use the iter function to make the object iterable\n",
    "myiter = iter(mynumbersobj)\n",
    "\n",
    "# Print the numbers\n",
    "print(next(myiter)) # Prints 1\n",
    "print(next(myiter)) # Prints 2\n",
    "print(next(myiter)) # Prints 3\n",
    "print(next(myiter)) # prints 4"
   ]
  }
 ],
 "metadata": {
  "kernelspec": {
   "display_name": "Python 3",
   "language": "python",
   "name": "python3"
  },
  "language_info": {
   "codemirror_mode": {
    "name": "ipython",
    "version": 3
   },
   "file_extension": ".py",
   "mimetype": "text/x-python",
   "name": "python",
   "nbconvert_exporter": "python",
   "pygments_lexer": "ipython3",
   "version": "3.11.8"
  }
 },
 "nbformat": 4,
 "nbformat_minor": 2
}
