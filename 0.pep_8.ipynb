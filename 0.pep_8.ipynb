{
 "cells": [
  {
   "cell_type": "markdown",
   "metadata": {},
   "source": [
    "<h5><b># PEP (Python Enhancement Proposal) 8 – Style Guide for Python Code</b></h5>\n",
    "Source: https://peps.python.org/pep-0008/"
   ]
  },
  {
   "cell_type": "code",
   "execution_count": null,
   "metadata": {},
   "outputs": [],
   "source": [
    "# Python code conventions:\n",
    "# Coding conventions in Python are a set of guidelines and recommendations for writing clean, readable, and consistent Python code.\n",
    "# Following coding conventions is essential for maintaining code quality, facilitating collaboration, and making it easier for others\n",
    "# (and your future self) to understand and work with your code. The most widely accepted and followed coding convention in Python is \n",
    "# known as PEP 8 (Python Enhancement Proposal 8)\n"
   ]
  },
  {
   "cell_type": "markdown",
   "metadata": {},
   "source": [
    "<h5><b># 1. Indentation</b></h5>"
   ]
  },
  {
   "cell_type": "code",
   "execution_count": null,
   "metadata": {},
   "outputs": [],
   "source": [
    "# Use 4 spaces (or tab that contains 4 spaces) per indentation level.\n",
    "# This is the most common style, and it’s also recommended by PEP 8.\n",
    "\n",
    "# Good\n",
    "def print_function():\n",
    "    if True:\n",
    "        print(\"Hello, world!\")\n",
    "\n",
    "# Bad\n",
    "def print_function():\n",
    " if True:\n",
    "  print(\"Hello, world!\")"
   ]
  },
  {
   "cell_type": "markdown",
   "metadata": {},
   "source": [
    "<h5><b># 2. Maximum Line Length</b></h5>"
   ]
  },
  {
   "cell_type": "code",
   "execution_count": null,
   "metadata": {},
   "outputs": [],
   "source": [
    "# Limit lines to 79 characters for code and 72 for docstrings and comments.\n",
    "# However, the more modern recommendation is to limit lines to 88 characters,\n",
    "# as it works well with modern text editors and widescreen displays.\n",
    "\n",
    "# Good\n",
    "def long_function_name(parameter1, parameter2, parameter3, \\\n",
    "                       parameter4, parameter5):\n",
    "    # Code goes here...\n",
    "\n",
    "# Bad (exceeds line length limit)\n",
    "def long_function_name(parameter1, parameter2, parameter3, parameter4, parameter5):\n",
    "    # Code goes here..."
   ]
  },
  {
   "cell_type": "markdown",
   "metadata": {},
   "source": [
    "<h5><b># 3. Imports</b></h5>"
   ]
  },
  {
   "cell_type": "code",
   "execution_count": null,
   "metadata": {},
   "outputs": [],
   "source": [
    "# Imports should usually be on separate lines and grouped in the following order:\n",
    "#   - Standard library imports\n",
    "#   - Related third-party imports\n",
    "#   - Local application/library specific imports\n",
    "\n",
    "# Good\n",
    "import os\n",
    "import sys\n",
    "\n",
    "from my_module import my_function\n",
    "\n",
    "# Bad (unorganized or multiple imports on one line)\n",
    "import os, sys\n",
    "from my_module import *"
   ]
  },
  {
   "cell_type": "markdown",
   "metadata": {},
   "source": [
    "<h5><b># 4. Whitespace in Expressions and Statements</b></h5>"
   ]
  },
  {
   "cell_type": "code",
   "execution_count": null,
   "metadata": {},
   "outputs": [],
   "source": [
    "# Avoid extraneous whitespace in the following situations:\n",
    "#   - Avoid whitespace immediately before a comma, semicolon, or colon.\n",
    "#   - Avoid whitespace immediately before an open parenthesis that starts an argument list, indexing, or slicing.\n",
    "#   - Avoid whitespace immediately before the open parenthesis that starts a function call.\n",
    "#   - Avoid whitespace immediately before the open parenthesis that starts an indexing or slicing.\n",
    "\n",
    "# Good\n",
    "custom_function(param[1], {params: 2})\n",
    "\n",
    "# Bad (extraneous whitespace)\n",
    "custom_function( param[ 1 ] , { params: 2 } )"
   ]
  },
  {
   "cell_type": "markdown",
   "metadata": {},
   "source": [
    "<h5><b># 5. Comments</b></h5>"
   ]
  },
  {
   "cell_type": "code",
   "execution_count": null,
   "metadata": {},
   "outputs": [],
   "source": [
    "# Use comments sparingly and focus on explaining why something is done, not what it does (unless it’s particularly complex).\n",
    "# Use docstrings to document classes, functions, and modules.\n",
    "\n",
    "# Good\n",
    "def calculate_total(price, tax_rate):\n",
    "    \"\"\"Calculate the total cost given a price and tax rate.\"\"\"\n",
    "    return price * (1 + tax_rate / 100)\n",
    "\n",
    "# Bad (excessive or unclear comments)\n",
    "def calculate_total(price, tax_rate):\n",
    "    \"\"\"_summary_\n",
    "\n",
    "    Args:\n",
    "        price (_type_): _description_\n",
    "        tax_rate (_type_): _description_\n",
    "\n",
    "    Returns:\n",
    "        _type_: _description_\n",
    "    \"\"\"\n",
    "    # This function calculates the total cost\n",
    "    # Based on the given price and tax rate\n",
    "    return price * (1 + tax_rate / 100)"
   ]
  },
  {
   "cell_type": "markdown",
   "metadata": {},
   "source": [
    "<h5><b># 6. Naming Conventions</b></h5>"
   ]
  },
  {
   "cell_type": "code",
   "execution_count": null,
   "metadata": {},
   "outputs": [],
   "source": [
    "# Follow the naming conventions recommended by PEP 8 for variables, functions, classes, and modules. Some key points:\n",
    "#   - Use lowercase with underscores for variable and function names (e.g., my_variable, calculate_total).\n",
    "#   - Use CapitalizedWords for class names (e.g., MyClass).\n",
    "#   - Use lowercase_with_underscores for module names (e.g., my_module.py).\n",
    "\n",
    "# Variable\n",
    "my_var = 10\n",
    "10_var = 10\n",
    "var_10 = 10\n",
    "_var1 = 10\n",
    "\n",
    "# class\n",
    "\n",
    "class MyClass:\n",
    "    # funtcions\n",
    "\n",
    "\n",
    "# filename / module\n",
    "python_basic.py"
   ]
  },
  {
   "cell_type": "markdown",
   "metadata": {},
   "source": [
    "<h5><b># 7. Whitespace Between Operators and Variables</b></h5>"
   ]
  },
  {
   "cell_type": "code",
   "execution_count": null,
   "metadata": {},
   "outputs": [],
   "source": [
    "# Use a single space around operators (e.g., assignment, comparison, arithmetic) but not when defining keyword arguments \n",
    "# or default parameter values.\n",
    "\n",
    "# Good\n",
    "x = 5\n",
    "y = x + 2\n",
    "result = function_name(arg1, arg2)\n",
    "\n",
    "# Bad (no space around assignment)\n",
    "x=5\n",
    "y =x+2\n",
    "result = function_name (arg1, arg2)"
   ]
  },
  {
   "cell_type": "markdown",
   "metadata": {},
   "source": [
    "<h5><b># 8. Avoid Extraneous Parentheses</b></h5>"
   ]
  },
  {
   "cell_type": "code",
   "execution_count": null,
   "metadata": {},
   "outputs": [],
   "source": [
    "# While parentheses can be used to clarify code, it’s generally recommended to avoid using them when they are not necessary.\n",
    "\n",
    "# Good\n",
    "if x > 5:\n",
    "    print(\"x is greater than 5\")\n",
    "\n",
    "if (x > 5 or x < 10) and x == 20:\n",
    "    # code here\n",
    "\n",
    "# Bad (unnecessary parentheses)\n",
    "if (x > 5):\n",
    "    print(\"x is greater than 5\")\n",
    "\n",
    "if x > 5 or x < 10 and x == 20:\n",
    "    # code here"
   ]
  },
  {
   "cell_type": "markdown",
   "metadata": {},
   "source": [
    "<h5><b># 9. Document Your Code</b></h5>"
   ]
  },
  {
   "cell_type": "code",
   "execution_count": null,
   "metadata": {},
   "outputs": [
    {
     "name": "stdout",
     "output_type": "stream",
     "text": [
      "Your name is Mike\n"
     ]
    }
   ],
   "source": [
    "# Use docstrings to document your functions, classes, and modules.\n",
    "# This helps others understand how to use your code and what it does.\n",
    "\n",
    "def print_hello(name):\n",
    "    \"\"\" Will print your name\n",
    "\n",
    "    Args:\n",
    "        name (str): Your name\n",
    "\n",
    "    Returns:\n",
    "        str: Your name will be returned\n",
    "    \"\"\"\n",
    "    # Define variable\n",
    "    # name: str = \"Mike\"\n",
    "\n",
    "    return f\"Your name is {name}\"\n",
    "    # return \"Your name is \" + name\n",
    "\n",
    "print(print_hello(\"Mike\"))\n"
   ]
  }
 ],
 "metadata": {
  "kernelspec": {
   "display_name": "Python 3",
   "language": "python",
   "name": "python3"
  },
  "language_info": {
   "codemirror_mode": {
    "name": "ipython",
    "version": 3
   },
   "file_extension": ".py",
   "mimetype": "text/x-python",
   "name": "python",
   "nbconvert_exporter": "python",
   "pygments_lexer": "ipython3",
   "version": "3.11.8"
  }
 },
 "nbformat": 4,
 "nbformat_minor": 2
}
