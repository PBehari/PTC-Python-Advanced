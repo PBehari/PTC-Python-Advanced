{
 "cells": [
  {
   "cell_type": "markdown",
   "metadata": {},
   "source": [
    "### Python Generators\n",
    "Source:\n",
    "https://www.datacamp.com/tutorial/python-iterators-generators-tutorial#python-generators-themo"
   ]
  },
  {
   "cell_type": "markdown",
   "metadata": {},
   "source": [
    "**Generators:**\n",
    "\n",
    "- Special functions that return iterator objects.\n",
    "- Use the yield keyword to return values one at a time.\n",
    "- Automatically handle internal state and StopIteration.\n",
    "- Simpler and more concise alternative to custom iterators."
   ]
  },
  {
   "cell_type": "markdown",
   "metadata": {},
   "source": [
    "#### Glossary"
   ]
  },
  {
   "cell_type": "markdown",
   "metadata": {},
   "source": [
    "| Term             | Definition |\n",
    "|------------------|------------|\n",
    "| **Generator**    | A special type of function which does not return a single value: it returns an iterator object with a sequence of values. |\n",
    "| **Lazy Evaluation** | An evaluation strategy whereby certain objects are only produced when required. Consequently, certain developer circles also refer to lazy evaluation as “call-by-need.” |\n",
    "| **`yield`**      | A Python keyword similar to the `return` keyword, except `yield` returns a generator object instead of a value. |\n"
   ]
  },
  {
   "cell_type": "code",
   "execution_count": 1,
   "metadata": {},
   "outputs": [
    {
     "name": "stdout",
     "output_type": "stream",
     "text": [
      "Number is 1\n",
      "Number is 2\n",
      "Number is 3\n",
      "Number is 4\n",
      "Number is 5\n",
      "Number is 6\n",
      "Number is 7\n",
      "Number is 8\n",
      "Number is 9\n",
      "Number is 10\n",
      "Number is 11\n",
      "Number is 12\n",
      "Number is 13\n",
      "Number is 14\n",
      "Number is 15\n",
      "Number is 16\n",
      "Number is 17\n",
      "Number is 18\n",
      "Number is 19\n",
      "Number is 20\n",
      "[1, 2, 4, 5, 10, 20]\n"
     ]
    }
   ],
   "source": [
    "def find_factor_numbers(n):\n",
    "    \"\"\"\n",
    "    Returns a list of all factors of the given number `n`.\n",
    "\n",
    "    A factor is a number that divides `n` exactly without leaving a remainder.\n",
    "\n",
    "    Parameters:\n",
    "    n (int): The number to find factors for.\n",
    "\n",
    "    Returns:\n",
    "    list: A list of integers that are factors of `n`.\n",
    "    \"\"\"\n",
    "    factor_list = []  # Initialize an empty list to store factors\n",
    "\n",
    "    # Loop through all numbers from 1 to n (inclusive)\n",
    "    for number in range(1, n + 1):\n",
    "        print(f\"Number is {number}\")  # Print the current number being checked\n",
    "\n",
    "        # If `number` divides `n` exactly, it is a factor\n",
    "        if n % number == 0:\n",
    "            factor_list.append(number)  # Add to the factor list\n",
    "\n",
    "    return factor_list  # Return the complete list of factors\n",
    "\n",
    "\n",
    "# Usage\n",
    "print(find_factor_numbers(20))  # Output: [1, 2, 4, 5, 10, 20]\n"
   ]
  },
  {
   "cell_type": "code",
   "execution_count": 2,
   "metadata": {},
   "outputs": [
    {
     "name": "stdout",
     "output_type": "stream",
     "text": [
      "<generator object find_factor_numbers at 0x1090cfe60>\n",
      "Number is 1\n",
      "1\n",
      "Number is 2\n",
      "2\n"
     ]
    }
   ],
   "source": [
    "# The same example using generators\n",
    "def find_factor_numbers(n):\n",
    "    \"\"\"\n",
    "    Generator that yields all factors of the given number `n`.\n",
    "\n",
    "    A factor is a number that divides `n` exactly without leaving a remainder.\n",
    "    This generator yields each factor one by one, using lazy evaluation.\n",
    "\n",
    "    Parameters:\n",
    "    n (int): The number to find factors for.\n",
    "\n",
    "    Yields:\n",
    "    int: The next factor of `n` in ascending order.\n",
    "    \"\"\"\n",
    "    # Loop through all numbers from 1 to n (inclusive)\n",
    "    for number in range(1, n + 1):\n",
    "        print(f\"Number is {number}\")  # Show the current number being checked\n",
    "\n",
    "        # If `number` divides `n` exactly, it is a factor\n",
    "        if n % number == 0:\n",
    "            yield number  # Yield the factor instead of returning all at once\n",
    "\n",
    "\n",
    "# Create the generator\n",
    "factor_numbers = find_factor_numbers(20)\n",
    "\n",
    "# The generator object is printed (not the values yet)\n",
    "print(factor_numbers)  # Output: <generator object find_factor_numbers at 0x...>\n",
    "\n",
    "# Fetch values one at a time using next()\n",
    "print(next(factor_numbers))  # Output: 1\n",
    "print(next(factor_numbers))  # Output: 2\n"
   ]
  },
  {
   "cell_type": "code",
   "execution_count": 4,
   "metadata": {},
   "outputs": [
    {
     "name": "stdout",
     "output_type": "stream",
     "text": [
      "<generator object <genexpr> at 0x10916e330>\n",
      "1\n"
     ]
    }
   ],
   "source": [
    "# Another way to create a generator is with a generator comprehension. \n",
    "# Generator expressions adopt a similar syntax to that of a list comprehension, except it uses rounded brackets instead of squared.\n",
    "factor_numbers = (number for number in range(1, 21) if 20 % number == 0)\n",
    "\n",
    "print(factor_numbers)  # Output: <generator object <genexpr> at 0x...>\n",
    "\n",
    "print(next(factor_numbers))  # Output: 1"
   ]
  },
  {
   "cell_type": "markdown",
   "metadata": {},
   "source": [
    "### Exploring Python’s yield Keyword"
   ]
  },
  {
   "cell_type": "code",
   "execution_count": 5,
   "metadata": {},
   "outputs": [
    {
     "name": "stdout",
     "output_type": "stream",
     "text": [
      "This is the first statment\n",
      "This is the second statement\n",
      "This is the third statement\n",
      "This is the last statement. Don't call next again!\n"
     ]
    },
    {
     "ename": "StopIteration",
     "evalue": "",
     "output_type": "error",
     "traceback": [
      "\u001b[0;31m---------------------------------------------------------------------------\u001b[0m",
      "\u001b[0;31mStopIteration\u001b[0m                             Traceback (most recent call last)",
      "Cell \u001b[0;32mIn[5], line 17\u001b[0m\n\u001b[1;32m     15\u001b[0m \u001b[38;5;28mprint\u001b[39m(\u001b[38;5;28mnext\u001b[39m(example))\n\u001b[1;32m     16\u001b[0m \u001b[38;5;28mprint\u001b[39m(\u001b[38;5;28mnext\u001b[39m(example))\n\u001b[0;32m---> 17\u001b[0m \u001b[38;5;28mprint\u001b[39m(\u001b[38;5;28;43mnext\u001b[39;49m\u001b[43m(\u001b[49m\u001b[43mexample\u001b[49m\u001b[43m)\u001b[49m)\n",
      "\u001b[0;31mStopIteration\u001b[0m: "
     ]
    }
   ],
   "source": [
    "# The \"yield\" keyword controls the flow of a generator function.\n",
    "# Instead of exiting the function as seen when \"return\" is used, the \"yield\" keyword returns the function\n",
    "# but remembers the state of the local variables.\n",
    "\n",
    "def yield_multiple_statments():\n",
    "  yield \"This is the first statment\"\n",
    "  yield \"This is the second statement\"  \n",
    "  yield \"This is the third statement\"\n",
    "  yield \"This is the last statement. Don't call next again!\"\n",
    "\n",
    "example = yield_multiple_statments()\n",
    "\n",
    "print(next(example))\n",
    "print(next(example))\n",
    "print(next(example))\n",
    "print(next(example))\n",
    "print(next(example))"
   ]
  },
  {
   "cell_type": "markdown",
   "metadata": {},
   "source": [
    "**Practical Advice:**\n",
    "\n",
    "- Choose iterators when you need more control or complex state management.\n",
    "- Use generators for simpler, linear iterations.\n",
    "- Understanding when to use each improves Python programming proficiency."
   ]
  }
 ],
 "metadata": {
  "kernelspec": {
   "display_name": "Python 3",
   "language": "python",
   "name": "python3"
  },
  "language_info": {
   "codemirror_mode": {
    "name": "ipython",
    "version": 3
   },
   "file_extension": ".py",
   "mimetype": "text/x-python",
   "name": "python",
   "nbconvert_exporter": "python",
   "pygments_lexer": "ipython3",
   "version": "3.11.8"
  }
 },
 "nbformat": 4,
 "nbformat_minor": 2
}
