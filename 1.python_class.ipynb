{
 "cells": [
  {
   "cell_type": "code",
   "execution_count": null,
   "id": "e7157093",
   "metadata": {},
   "outputs": [],
   "source": [
    "class Student:\n",
    "\n",
    "    def __init__(self):\n",
    "        \"\"\"Init function\n",
    "        \"\"\"\n",
    "        self.name = \"\"\n",
    "\n",
    "    def set_name(self, name):\n",
    "        \"\"\"Set name function\n",
    "        \"\"\"\n",
    "        self.name = name\n",
    "\n",
    "    def get_name(self):\n",
    "        \"\"\"Get name function\"\"\"\n",
    "        return self.name"
   ]
  },
  {
   "cell_type": "code",
   "execution_count": 4,
   "id": "81d93a5a",
   "metadata": {},
   "outputs": [],
   "source": [
    "# Initialise class object\n",
    "student = Student()"
   ]
  },
  {
   "cell_type": "code",
   "execution_count": 6,
   "id": "28720c51",
   "metadata": {},
   "outputs": [],
   "source": [
    "# Set name\n",
    "student.set_name(\"Student 1\")"
   ]
  },
  {
   "cell_type": "code",
   "execution_count": 7,
   "id": "ee4e0fe3",
   "metadata": {},
   "outputs": [
    {
     "name": "stdout",
     "output_type": "stream",
     "text": [
      "Student 1\n"
     ]
    }
   ],
   "source": [
    "# get name\n",
    "print(student.get_name())"
   ]
  },
  {
   "cell_type": "markdown",
   "id": "55dd3cf4",
   "metadata": {},
   "source": [
    "### Class Inheritance"
   ]
  },
  {
   "cell_type": "code",
   "execution_count": 61,
   "id": "2fe00da1",
   "metadata": {},
   "outputs": [],
   "source": [
    "class School:\n",
    "    school_name: str = \"\"\n",
    "\n",
    "    def __init__(self):\n",
    "        pass\n",
    "\n",
    "    def get_school_name(self):\n",
    "        return self.school_name\n",
    "    \n",
    "    def set_school_name(self, name):\n",
    "        self.school_name = name"
   ]
  },
  {
   "cell_type": "code",
   "execution_count": 62,
   "id": "956d0512",
   "metadata": {},
   "outputs": [],
   "source": [
    "# Initialise\n",
    "school = School()"
   ]
  },
  {
   "cell_type": "code",
   "execution_count": 63,
   "id": "d6e8acc4",
   "metadata": {},
   "outputs": [],
   "source": [
    "# Set school name\n",
    "school.set_school_name(name=\"PTC\")"
   ]
  },
  {
   "cell_type": "code",
   "execution_count": 64,
   "id": "be05fecc",
   "metadata": {},
   "outputs": [
    {
     "name": "stdout",
     "output_type": "stream",
     "text": [
      "PTC\n"
     ]
    }
   ],
   "source": [
    "# Get school name\n",
    "school_name = school.get_school_name()\n",
    "print(school_name)"
   ]
  },
  {
   "cell_type": "markdown",
   "id": "53bfd409",
   "metadata": {},
   "source": [
    "### Student class inheritance from School class"
   ]
  },
  {
   "cell_type": "code",
   "execution_count": null,
   "id": "93174fec",
   "metadata": {},
   "outputs": [],
   "source": [
    "class Student(School):\n",
    "    # Define name list\n",
    "    name_list = []\n",
    "\n",
    "    def __init__(self):\n",
    "        super().__init__()\n",
    "\n",
    "    def set_name(self, name):\n",
    "        self.name = name\n",
    "\n",
    "    def get_name(self):\n",
    "        return self.name\n",
    "    \n",
    "    def set_name_list(self, name):\n",
    "        self.name_list.append(name)\n",
    "    \n",
    "    def get_name_list(self):\n",
    "        return self.name_list\n"
   ]
  },
  {
   "cell_type": "code",
   "execution_count": null,
   "id": "863f724e",
   "metadata": {},
   "outputs": [
    {
     "data": {
      "text/plain": [
       "''"
      ]
     },
     "execution_count": 68,
     "metadata": {},
     "output_type": "execute_result"
    }
   ],
   "source": [
    "# Initialise student\n",
    "student = Student()"
   ]
  },
  {
   "cell_type": "code",
   "execution_count": 54,
   "id": "e4aed06b",
   "metadata": {},
   "outputs": [
    {
     "name": "stdout",
     "output_type": "stream",
     "text": [
      "John\n"
     ]
    }
   ],
   "source": [
    "# Set Student\n",
    "student.set_name(\"John\")\n",
    "\n",
    "# get student name\n",
    "print(student.get_name())"
   ]
  },
  {
   "cell_type": "code",
   "execution_count": 55,
   "id": "946ea057",
   "metadata": {},
   "outputs": [],
   "source": [
    "student.set_name_list(\"John\")\n",
    "student.set_name_list(\"Doe\")\n",
    "student.set_name_list(\"Smith\")"
   ]
  },
  {
   "cell_type": "code",
   "execution_count": 56,
   "id": "a542c848",
   "metadata": {},
   "outputs": [
    {
     "name": "stdout",
     "output_type": "stream",
     "text": [
      "['John', 'Doe', 'Smith']\n"
     ]
    }
   ],
   "source": [
    "student_list = student.get_name_list()\n",
    "print(student_list)"
   ]
  }
 ],
 "metadata": {
  "kernelspec": {
   "display_name": "Python 3",
   "language": "python",
   "name": "python3"
  },
  "language_info": {
   "codemirror_mode": {
    "name": "ipython",
    "version": 3
   },
   "file_extension": ".py",
   "mimetype": "text/x-python",
   "name": "python",
   "nbconvert_exporter": "python",
   "pygments_lexer": "ipython3",
   "version": "3.11.8"
  }
 },
 "nbformat": 4,
 "nbformat_minor": 5
}
