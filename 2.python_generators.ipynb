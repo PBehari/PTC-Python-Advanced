{
 "cells": [
  {
   "cell_type": "markdown",
   "metadata": {},
   "source": [
    "<h5><b># Python Generators</b></h5>\n",
    "Source: https://www.datacamp.com/tutorial/python-iterators-generators-tutorial#python-generators-themo"
   ]
  },
  {
   "cell_type": "code",
   "execution_count": 22,
   "metadata": {},
   "outputs": [
    {
     "name": "stdout",
     "output_type": "stream",
     "text": [
      "Number is 1\n",
      "Number is 2\n",
      "Number is 3\n",
      "Number is 4\n",
      "Number is 5\n",
      "Number is 6\n",
      "Number is 7\n",
      "Number is 8\n",
      "Number is 9\n",
      "Number is 10\n",
      "Number is 11\n",
      "Number is 12\n",
      "Number is 13\n",
      "Number is 14\n",
      "Number is 15\n",
      "Number is 16\n",
      "Number is 17\n",
      "Number is 18\n",
      "Number is 19\n",
      "Number is 20\n",
      "[1, 2, 4, 5, 10, 20]\n",
      "Number is 1\n",
      "Number is 2\n",
      "Number is 3\n",
      "Number is 4\n",
      "Number is 5\n",
      "Number is 6\n",
      "Number is 7\n",
      "Number is 8\n",
      "Number is 9\n",
      "Number is 10\n",
      "Number is 11\n",
      "Number is 12\n",
      "Number is 13\n",
      "Number is 14\n",
      "Number is 15\n",
      "Number is 16\n",
      "Number is 17\n",
      "Number is 18\n",
      "Number is 19\n",
      "Number is 20\n",
      "[1, 2, 4, 5, 10, 20]\n"
     ]
    }
   ],
   "source": [
    "def find_factor_numbers(n):\n",
    "    factor_list = []\n",
    "    for number in range(1, n+1):\n",
    "        print(f\"Number is {number}\")\n",
    "        if n % number == 0:\n",
    "            factor_list.append(number)\n",
    "\n",
    "    return factor_list\n",
    "\n",
    "print(find_factor_numbers(20))\n",
    "# print(find_factor_numbers(20))\n",
    "\n",
    "# print(range(1, 20))"
   ]
  },
  {
   "cell_type": "code",
   "execution_count": 20,
   "metadata": {},
   "outputs": [
    {
     "name": "stdout",
     "output_type": "stream",
     "text": [
      "<generator object find_factor_numbers at 0x1086b09e0>\n",
      "Number is 1\n",
      "1\n",
      "Number is 2\n",
      "2\n"
     ]
    }
   ],
   "source": [
    "# The same example using generators\n",
    "def find_factor_numbers(n):\n",
    "  for number in range(1, n+1):\n",
    "      print(f\"Number is {number}\")\n",
    "      if n % number == 0:\n",
    "          yield number\n",
    "\n",
    "factor_numbers = find_factor_numbers(20)\n",
    "print(factor_numbers)\n",
    "\n",
    "print(next(factor_numbers))\n",
    "print(next(factor_numbers))"
   ]
  },
  {
   "cell_type": "markdown",
   "metadata": {},
   "source": [
    "<h5><b># Exploring Python’s yield Keyword</b></h5>"
   ]
  },
  {
   "cell_type": "code",
   "execution_count": 23,
   "metadata": {},
   "outputs": [
    {
     "name": "stdout",
     "output_type": "stream",
     "text": [
      "This is the first statment\n",
      "This is the second statement\n",
      "This is the third statement\n",
      "This is the last statement. Don't call next again!\n"
     ]
    },
    {
     "ename": "StopIteration",
     "evalue": "",
     "output_type": "error",
     "traceback": [
      "\u001b[0;31m---------------------------------------------------------------------------\u001b[0m",
      "\u001b[0;31mStopIteration\u001b[0m                             Traceback (most recent call last)",
      "Cell \u001b[0;32mIn[23], line 17\u001b[0m\n\u001b[1;32m     15\u001b[0m \u001b[38;5;28mprint\u001b[39m(\u001b[38;5;28mnext\u001b[39m(example))\n\u001b[1;32m     16\u001b[0m \u001b[38;5;28mprint\u001b[39m(\u001b[38;5;28mnext\u001b[39m(example))\n\u001b[0;32m---> 17\u001b[0m \u001b[38;5;28mprint\u001b[39m(\u001b[38;5;28;43mnext\u001b[39;49m\u001b[43m(\u001b[49m\u001b[43mexample\u001b[49m\u001b[43m)\u001b[49m)\n",
      "\u001b[0;31mStopIteration\u001b[0m: "
     ]
    }
   ],
   "source": [
    "# The \"yield\" keyword controls the flow of a generator function.\n",
    "# Instead of exiting the function as seen when \"return\" is used, the \"yield\" keyword returns the function\n",
    "# but remembers the state of the local variables.\n",
    "\n",
    "def yield_multiple_statments():\n",
    "  yield \"This is the first statment\"\n",
    "  yield \"This is the second statement\"  \n",
    "  yield \"This is the third statement\"\n",
    "  yield \"This is the last statement. Don't call next again!\"\n",
    "\n",
    "example = yield_multiple_statments()\n",
    "\n",
    "print(next(example))\n",
    "print(next(example))\n",
    "print(next(example))\n",
    "print(next(example))\n",
    "print(next(example))"
   ]
  }
 ],
 "metadata": {
  "kernelspec": {
   "display_name": "Python 3",
   "language": "python",
   "name": "python3"
  },
  "language_info": {
   "codemirror_mode": {
    "name": "ipython",
    "version": 3
   },
   "file_extension": ".py",
   "mimetype": "text/x-python",
   "name": "python",
   "nbconvert_exporter": "python",
   "pygments_lexer": "ipython3",
   "version": "3.11.8"
  }
 },
 "nbformat": 4,
 "nbformat_minor": 2
}
