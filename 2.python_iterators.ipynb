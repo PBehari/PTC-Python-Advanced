{
 "cells": [
  {
   "cell_type": "markdown",
   "metadata": {},
   "source": [
    "#### Python Iterators\n",
    "Source: https://www.datacamp.com/tutorial/python-iterators-generators-tutorial"
   ]
  },
  {
   "cell_type": "markdown",
   "metadata": {},
   "source": [
    "**Iterators:**\n",
    "\n",
    "- Objects that can be iterated upon.\n",
    "- Common in loops and list comprehensions.\n",
    "- Any object that can return an iterator is called an iterable.\n",
    "- Must implement:\n",
    "    - `__iter__()` method\n",
    "    - `__next__()` method\n",
    "- Must manage:\n",
    "    - Internal state\n",
    "    - Raising a StopIteration exception when no values remain\n",
    "- These requirements are collectively called the iterator protocol.\n",
    "- Writing custom iterators can be complex and verbose."
   ]
  },
  {
   "cell_type": "markdown",
   "metadata": {},
   "source": [
    "#### Glossary"
   ]
  },
  {
   "cell_type": "markdown",
   "metadata": {},
   "source": [
    "| Term             | Definition |\n",
    "|------------------|------------|\n",
    "| **Iterable**     | A Python object which can be looped over or iterated over in a loop. Examples of iterables include lists, sets, tuples, dictionaries, strings, etc. |\n",
    "| **Iterator**     | An iterator is an object that can be iterated upon. Thus, iterators contain a countable number of values. |\n",
    "| **Lazy Evaluation** | An evaluation strategy whereby certain objects are only produced when required. Consequently, certain developer circles also refer to lazy evaluation as “call-by-need.” |\n",
    "| **Iterator Protocol** | A set of rules that must be followed to define an iterator in Python. |\n",
    "| **`iter()`**     | A built-in function used to convert an iterable to an iterator. |\n",
    "| **`next()`**     | A built-in function used to return the next item in an iterator. |\n"
   ]
  },
  {
   "cell_type": "code",
   "execution_count": 2,
   "metadata": {},
   "outputs": [
    {
     "name": "stdout",
     "output_type": "stream",
     "text": [
      "[1, 2, 3, 4]\n",
      "<list_iterator object at 0x118bec790>\n",
      "1\n",
      "2\n",
      "3\n",
      "4\n"
     ]
    },
    {
     "ename": "StopIteration",
     "evalue": "",
     "output_type": "error",
     "traceback": [
      "\u001b[0;31m---------------------------------------------------------------------------\u001b[0m",
      "\u001b[0;31mStopIteration\u001b[0m                             Traceback (most recent call last)",
      "Cell \u001b[0;32mIn[2], line 35\u001b[0m\n\u001b[1;32m     30\u001b[0m \u001b[38;5;28mprint\u001b[39m(\u001b[38;5;28mnext\u001b[39m(numbers_list_iter)) \u001b[38;5;66;03m# Prints 4\u001b[39;00m\n\u001b[1;32m     32\u001b[0m \u001b[38;5;66;03m# What happens when you add one more print line below?\u001b[39;00m\n\u001b[1;32m     33\u001b[0m \n\u001b[1;32m     34\u001b[0m \u001b[38;5;66;03m# Get the fourth item of the ierator\u001b[39;00m\n\u001b[0;32m---> 35\u001b[0m \u001b[38;5;28mprint\u001b[39m(\u001b[38;5;28;43mnext\u001b[39;49m\u001b[43m(\u001b[49m\u001b[43mnumbers_list_iter\u001b[49m\u001b[43m)\u001b[49m) \u001b[38;5;66;03m# Prints 4\u001b[39;00m\n",
      "\u001b[0;31mStopIteration\u001b[0m: "
     ]
    }
   ],
   "source": [
    "# Example 1: Iterable\n",
    "\n",
    "# Create a list instance\n",
    "# This list is iterable, but we need an iterator to iterate over each item in the list\n",
    "numbers_list = [1, 2, 3, 4]\n",
    "print(numbers_list)\n",
    "\n",
    "# For that we will use the built-in \"iter()\" function on the list\n",
    "numbers_list_iter = iter(numbers_list)\n",
    "\n",
    "# Print the iterator list and you will see it is of type \"list_iterator\" object\n",
    "print(numbers_list_iter)\n",
    "\n",
    "# Now print each item in the iterator object by calling the built-in \"next()\"\n",
    "# function on the iterator list object.\n",
    "# You may have noticed that you need to call the \"next()\" function every time to get the\n",
    "# next item in the iterator list object. We can automate this by using python loops,\n",
    "# see next cell.\n",
    "\n",
    "# Get the first item of the ierator\n",
    "print(next(numbers_list_iter)) # Prints 1\n",
    "\n",
    "# Get the second item of the ierator\n",
    "print(next(numbers_list_iter)) # Prints 2\n",
    "\n",
    "# Get the third item of the ierator\n",
    "print(next(numbers_list_iter)) # Prints 3\n",
    "\n",
    "# Get the fourth item of the ierator\n",
    "print(next(numbers_list_iter)) # Prints 4\n",
    "\n",
    "# What happens when you add one more print line below?\n",
    "\n",
    "# Get the fourth item of the ierator\n",
    "print(next(numbers_list_iter)) # Prints 4\n"
   ]
  },
  {
   "cell_type": "code",
   "execution_count": 3,
   "metadata": {},
   "outputs": [
    {
     "name": "stdout",
     "output_type": "stream",
     "text": [
      "1\n",
      "2\n",
      "3\n",
      "4\n"
     ]
    }
   ],
   "source": [
    "# Example 2: Python automatically produces an iterator object whenever you attempt to loop through an iterable object. \n",
    "\n",
    "# Create a list instance\n",
    "numbers_list = [1, 2, 3, 4]\n",
    "\n",
    "# loop through the list\n",
    "for number in numbers_list:\n",
    "    print(number)\n",
    "\n",
    "# As we can see in the above code we don't need to use the \"iter()\" and the \"next()\"\n",
    "# functions to print each items in the list. The python for loop does this automatically\n",
    "# for us in the background."
   ]
  },
  {
   "cell_type": "code",
   "execution_count": null,
   "metadata": {},
   "outputs": [],
   "source": [
    "### How to build Custom Iterators\n",
    "#\n",
    "# It is easy to build a custom iterator in Python. We just have to implement\n",
    "# the \"__iter__()\" and the \"__next__()\" methods:\n",
    "#   - __iter__(): return the iterator object itself. If required, some initialization can be performed.\n",
    "#   - __next__(): must return the next item in the sequence. On reaching the end, and in subsequent calls, it must raise \"StopIteration\""
   ]
  },
  {
   "cell_type": "code",
   "execution_count": 8,
   "metadata": {},
   "outputs": [
    {
     "name": "stdout",
     "output_type": "stream",
     "text": [
      "1\n",
      "2\n",
      "3\n",
      "4\n"
     ]
    },
    {
     "ename": "StopIteration",
     "evalue": "",
     "output_type": "error",
     "traceback": [
      "\u001b[0;31m---------------------------------------------------------------------------\u001b[0m",
      "\u001b[0;31mStopIteration\u001b[0m                             Traceback (most recent call last)",
      "Cell \u001b[0;32mIn[8], line 39\u001b[0m\n\u001b[1;32m     37\u001b[0m \u001b[38;5;28mprint\u001b[39m(\u001b[38;5;28mnext\u001b[39m(myiter)) \u001b[38;5;66;03m# Prints 3\u001b[39;00m\n\u001b[1;32m     38\u001b[0m \u001b[38;5;28mprint\u001b[39m(\u001b[38;5;28mnext\u001b[39m(myiter)) \u001b[38;5;66;03m# prints 4\u001b[39;00m\n\u001b[0;32m---> 39\u001b[0m \u001b[38;5;28mprint\u001b[39m(\u001b[38;5;28;43mnext\u001b[39;49m\u001b[43m(\u001b[49m\u001b[43mmyiter\u001b[49m\u001b[43m)\u001b[49m) \u001b[38;5;66;03m# prints 5\u001b[39;00m\n",
      "Cell \u001b[0;32mIn[8], line 20\u001b[0m, in \u001b[0;36mMyNumbersIterator.__next__\u001b[0;34m(self)\u001b[0m\n\u001b[1;32m     18\u001b[0m \u001b[38;5;66;03m# Stop the ieration when the number is greater than 4\u001b[39;00m\n\u001b[1;32m     19\u001b[0m \u001b[38;5;28;01mif\u001b[39;00m number \u001b[38;5;241m>\u001b[39m \u001b[38;5;241m4\u001b[39m:\n\u001b[0;32m---> 20\u001b[0m     \u001b[38;5;28;01mraise\u001b[39;00m \u001b[38;5;167;01mStopIteration\u001b[39;00m\n\u001b[1;32m     22\u001b[0m \u001b[38;5;66;03m# Increment the current number by one\u001b[39;00m\n\u001b[1;32m     23\u001b[0m \u001b[38;5;28mself\u001b[39m\u001b[38;5;241m.\u001b[39mnumber \u001b[38;5;241m+\u001b[39m\u001b[38;5;241m=\u001b[39m \u001b[38;5;241m1\u001b[39m\n",
      "\u001b[0;31mStopIteration\u001b[0m: "
     ]
    }
   ],
   "source": [
    "### Example of Custom Iterator\n",
    "# This is a simple example how you can create a custom iterator\n",
    "# This iterator will increment the number by one on each call\n",
    "\n",
    "# Create a custom class\n",
    "class MyNumbersIterator:\n",
    "\n",
    "    def __iter__(self):\n",
    "        # Set initial value for our number variable\n",
    "        # In this case it is 1\n",
    "        self.number = 1\n",
    "        return self\n",
    "    \n",
    "    def __next__(self):\n",
    "        # Get the current number from the number variable\n",
    "        number = self.number\n",
    "\n",
    "        # Stop the ieration when the number is greater than 4\n",
    "        if number > 4:\n",
    "            raise StopIteration\n",
    "        \n",
    "        # Increment the current number by one\n",
    "        self.number += 1\n",
    "        # self.number = self.number + 1\n",
    "        # Return the current number\n",
    "        return number\n",
    "\n",
    "# Create an Object\n",
    "mynumbersobj = MyNumbersIterator()\n",
    "\n",
    "# Use the iter function to make the object iterable\n",
    "myiter = iter(mynumbersobj)\n",
    "\n",
    "# Print the numbers\n",
    "print(next(myiter)) # Prints 1\n",
    "print(next(myiter)) # Prints 2\n",
    "print(next(myiter)) # Prints 3\n",
    "print(next(myiter)) # prints 4\n",
    "print(next(myiter)) # prints 5"
   ]
  },
  {
   "cell_type": "markdown",
   "metadata": {},
   "source": [
    "### Using Iterator with a File"
   ]
  },
  {
   "cell_type": "code",
   "execution_count": 7,
   "metadata": {},
   "outputs": [
    {
     "name": "stdout",
     "output_type": "stream",
     "text": [
      "test 1\n",
      "test 2\n",
      "Hello world\n",
      "Welcome!\n"
     ]
    }
   ],
   "source": [
    "# Read a file line by line\n",
    "# This is a simple example how you can read a file line by line\n",
    "with open('test.txt', 'r') as file:\n",
    "    file_iterator = iter(file)\n",
    "    for line in file_iterator:\n",
    "        print(line.strip())"
   ]
  }
 ],
 "metadata": {
  "kernelspec": {
   "display_name": "Python 3",
   "language": "python",
   "name": "python3"
  },
  "language_info": {
   "codemirror_mode": {
    "name": "ipython",
    "version": 3
   },
   "file_extension": ".py",
   "mimetype": "text/x-python",
   "name": "python",
   "nbconvert_exporter": "python",
   "pygments_lexer": "ipython3",
   "version": "3.11.8"
  }
 },
 "nbformat": 4,
 "nbformat_minor": 2
}
