{
 "cells": [
  {
   "cell_type": "markdown",
   "metadata": {},
   "source": [
    "#### Python Iterators\n",
    "Source: https://www.datacamp.com/tutorial/python-iterators-generators-tutorial"
   ]
  },
  {
   "cell_type": "markdown",
   "metadata": {},
   "source": [
    "**Iterators:**\n",
    "\n",
    "- Objects that can be iterated upon.\n",
    "- Common in loops and list comprehensions.\n",
    "- Any object that can return an iterator is called an iterable.\n",
    "- Must implement:\n",
    "    - `__iter__()` method\n",
    "    - `__next__()` method\n",
    "- Must manage:\n",
    "    - Internal state\n",
    "    - Raising a StopIteration exception when no values remain\n",
    "- These requirements are collectively called the iterator protocol.\n",
    "- Writing custom iterators can be complex and verbose."
   ]
  },
  {
   "cell_type": "markdown",
   "metadata": {},
   "source": [
    "#### Glossary"
   ]
  },
  {
   "cell_type": "markdown",
   "metadata": {},
   "source": [
    "| Term             | Definition |\n",
    "|------------------|------------|\n",
    "| **Iterable**     | A Python object which can be looped over or iterated over in a loop. Examples of iterables include lists, sets, tuples, dictionaries, strings, etc. |\n",
    "| **Iterator**     | An iterator is an object that can be iterated upon. Thus, iterators contain a countable number of values. |\n",
    "| **Lazy Evaluation** | An evaluation strategy whereby certain objects are only produced when required. Consequently, certain developer circles also refer to lazy evaluation as “call-by-need.” |\n",
    "| **Iterator Protocol** | A set of rules that must be followed to define an iterator in Python. |\n",
    "| **`iter()`**     | A built-in function used to convert an iterable to an iterator. |\n",
    "| **`next()`**     | A built-in function used to return the next item in an iterator. |\n"
   ]
  },
  {
   "cell_type": "code",
   "execution_count": 16,
   "metadata": {},
   "outputs": [
    {
     "name": "stdout",
     "output_type": "stream",
     "text": [
      "<list_iterator object at 0x106b94430>\n",
      "1\n",
      "2\n",
      "3\n",
      "4\n"
     ]
    },
    {
     "ename": "StopIteration",
     "evalue": "",
     "output_type": "error",
     "traceback": [
      "\u001b[0;31m---------------------------------------------------------------------------\u001b[0m",
      "\u001b[0;31mStopIteration\u001b[0m                             Traceback (most recent call last)",
      "Cell \u001b[0;32mIn[16], line 34\u001b[0m\n\u001b[1;32m     29\u001b[0m \u001b[38;5;28mprint\u001b[39m(\u001b[38;5;28mnext\u001b[39m(numbers_list_iter)) \u001b[38;5;66;03m# Prints 4\u001b[39;00m\n\u001b[1;32m     31\u001b[0m \u001b[38;5;66;03m# What happens when you add one more print line below?\u001b[39;00m\n\u001b[1;32m     32\u001b[0m \n\u001b[1;32m     33\u001b[0m \u001b[38;5;66;03m# Get the fourth item of the ierator\u001b[39;00m\n\u001b[0;32m---> 34\u001b[0m \u001b[38;5;28mprint\u001b[39m(\u001b[38;5;28;43mnext\u001b[39;49m\u001b[43m(\u001b[49m\u001b[43mnumbers_list_iter\u001b[49m\u001b[43m)\u001b[49m) \u001b[38;5;66;03m# Prints 4\u001b[39;00m\n",
      "\u001b[0;31mStopIteration\u001b[0m: "
     ]
    }
   ],
   "source": [
    "# Example 1: Iterable\n",
    "\n",
    "# Create a list instance\n",
    "# This list is iterable, but we need an iterator to iterate over each item in the list\n",
    "numbers_list = [1, 2, 3, 4]\n",
    "\n",
    "# For that we will use the built-in \"iter()\" function on the list\n",
    "numbers_list_iter = iter(numbers_list)\n",
    "\n",
    "# Print the iterator list and you will see it is of type \"list_iterator\" object\n",
    "print(numbers_list_iter)\n",
    "\n",
    "# Now print each item in the iterator object by calling the built-in \"next()\"\n",
    "# function on the iterator list object.\n",
    "# You may have noticed that you need to call the \"next()\" function every time to get the\n",
    "# next item in the iterator list object. We can automate this by using python loops,\n",
    "# see next cell.\n",
    "\n",
    "# Get the first item of the ierator\n",
    "print(next(numbers_list_iter)) # Prints 1\n",
    "\n",
    "# Get the second item of the ierator\n",
    "print(next(numbers_list_iter)) # Prints 2\n",
    "\n",
    "# Get the third item of the ierator\n",
    "print(next(numbers_list_iter)) # Prints 3\n",
    "\n",
    "# Get the fourth item of the ierator\n",
    "print(next(numbers_list_iter)) # Prints 4\n",
    "\n",
    "# What happens when you add one more print line below?\n",
    "\n",
    "# Get the fourth item of the ierator\n",
    "print(next(numbers_list_iter)) # Prints 4\n"
   ]
  },
  {
   "cell_type": "code",
   "execution_count": 8,
   "metadata": {},
   "outputs": [
    {
     "name": "stdout",
     "output_type": "stream",
     "text": [
      "1\n",
      "2\n",
      "3\n",
      "4\n"
     ]
    }
   ],
   "source": [
    "# Example 2: Python automatically produces an iterator object whenever you attempt to loop through an iterable object. \n",
    "\n",
    "# Create a list instance\n",
    "numbers_list = [1, 2, 3, 4]\n",
    "\n",
    "# loop through the list\n",
    "for number in numbers_list:\n",
    "    print(number)\n",
    "\n",
    "# As we can see in the above code we don't need to use the \"iter()\" and the \"next()\"\n",
    "# functions to print each items in the list. The python for loop does this automatically\n",
    "# for us in the background."
   ]
  },
  {
   "cell_type": "code",
   "execution_count": null,
   "metadata": {},
   "outputs": [],
   "source": [
    "### How to build Custom Iterators\n",
    "#\n",
    "# It is easy to build a custom iterator in Python. We just have to implement\n",
    "# the \"__iter__()\" and the \"__next__()\" methods:\n",
    "#   - __iter__(): return the iterator object itself. If required, some initialization can be performed.\n",
    "#   - __next__(): must return the next item in the sequence. On reaching the end, and in subsequent calls, it must raise \"StopIteration\""
   ]
  },
  {
   "cell_type": "code",
   "execution_count": 15,
   "metadata": {},
   "outputs": [
    {
     "name": "stdout",
     "output_type": "stream",
     "text": [
      "1\n",
      "2\n",
      "3\n",
      "4\n"
     ]
    }
   ],
   "source": [
    "### Example of Custom Iterator\n",
    "# This is a simple example how you can create a custom iterator\n",
    "# This iterator will increment the number by one on each call\n",
    "\n",
    "# Create a custom class\n",
    "class MyNumbersIterator:\n",
    "\n",
    "    def __iter__(self):\n",
    "        # Set initial value for our number variable\n",
    "        # In this case it is 1\n",
    "        self.number = 1\n",
    "        return self\n",
    "    \n",
    "    def __next__(self):\n",
    "        # Get the current number from the number variable\n",
    "        number = self.number\n",
    "        \n",
    "        # Increment the current number by one\n",
    "        self.number += 1\n",
    "        # self.number = self.number + 1\n",
    "        # Return the current number\n",
    "        return number\n",
    "\n",
    "# Create an Object\n",
    "mynumbersobj = MyNumbersIterator()\n",
    "\n",
    "# Use the iter function to make the object iterable\n",
    "myiter = iter(mynumbersobj)\n",
    "\n",
    "# Print the numbers\n",
    "print(next(myiter)) # Prints 1\n",
    "print(next(myiter)) # Prints 2\n",
    "print(next(myiter)) # Prints 3\n",
    "print(next(myiter)) # prints 4"
   ]
  },
  {
   "cell_type": "markdown",
   "metadata": {},
   "source": [
    "### Using Iterator with a File"
   ]
  },
  {
   "cell_type": "code",
   "execution_count": 19,
   "metadata": {},
   "outputs": [
    {
     "ename": "FileNotFoundError",
     "evalue": "[Errno 2] No such file or directory: 'test.txt'",
     "output_type": "error",
     "traceback": [
      "\u001b[0;31m---------------------------------------------------------------------------\u001b[0m",
      "\u001b[0;31mFileNotFoundError\u001b[0m                         Traceback (most recent call last)",
      "Cell \u001b[0;32mIn[19], line 3\u001b[0m\n\u001b[1;32m      1\u001b[0m \u001b[38;5;66;03m# Read a file line by line\u001b[39;00m\n\u001b[1;32m      2\u001b[0m \u001b[38;5;66;03m# This is a simple example how you can read a file line by line\u001b[39;00m\n\u001b[0;32m----> 3\u001b[0m \u001b[38;5;28;01mwith\u001b[39;00m \u001b[38;5;28;43mopen\u001b[39;49m\u001b[43m(\u001b[49m\u001b[38;5;124;43m'\u001b[39;49m\u001b[38;5;124;43mtest.txt\u001b[39;49m\u001b[38;5;124;43m'\u001b[39;49m\u001b[43m,\u001b[49m\u001b[43m \u001b[49m\u001b[38;5;124;43m'\u001b[39;49m\u001b[38;5;124;43mr\u001b[39;49m\u001b[38;5;124;43m'\u001b[39;49m\u001b[43m)\u001b[49m \u001b[38;5;28;01mas\u001b[39;00m file:\n\u001b[1;32m      4\u001b[0m     file_iterator \u001b[38;5;241m=\u001b[39m \u001b[38;5;28miter\u001b[39m(file)\n\u001b[1;32m      5\u001b[0m     \u001b[38;5;28;01mfor\u001b[39;00m line \u001b[38;5;129;01min\u001b[39;00m file_iterator:\n",
      "File \u001b[0;32m~/Documents/GitHub/Python_advanced_PTC/.conda/lib/python3.11/site-packages/IPython/core/interactiveshell.py:324\u001b[0m, in \u001b[0;36m_modified_open\u001b[0;34m(file, *args, **kwargs)\u001b[0m\n\u001b[1;32m    317\u001b[0m \u001b[38;5;28;01mif\u001b[39;00m file \u001b[38;5;129;01min\u001b[39;00m {\u001b[38;5;241m0\u001b[39m, \u001b[38;5;241m1\u001b[39m, \u001b[38;5;241m2\u001b[39m}:\n\u001b[1;32m    318\u001b[0m     \u001b[38;5;28;01mraise\u001b[39;00m \u001b[38;5;167;01mValueError\u001b[39;00m(\n\u001b[1;32m    319\u001b[0m         \u001b[38;5;124mf\u001b[39m\u001b[38;5;124m\"\u001b[39m\u001b[38;5;124mIPython won\u001b[39m\u001b[38;5;124m'\u001b[39m\u001b[38;5;124mt let you open fd=\u001b[39m\u001b[38;5;132;01m{\u001b[39;00mfile\u001b[38;5;132;01m}\u001b[39;00m\u001b[38;5;124m by default \u001b[39m\u001b[38;5;124m\"\u001b[39m\n\u001b[1;32m    320\u001b[0m         \u001b[38;5;124m\"\u001b[39m\u001b[38;5;124mas it is likely to crash IPython. If you know what you are doing, \u001b[39m\u001b[38;5;124m\"\u001b[39m\n\u001b[1;32m    321\u001b[0m         \u001b[38;5;124m\"\u001b[39m\u001b[38;5;124myou can use builtins\u001b[39m\u001b[38;5;124m'\u001b[39m\u001b[38;5;124m open.\u001b[39m\u001b[38;5;124m\"\u001b[39m\n\u001b[1;32m    322\u001b[0m     )\n\u001b[0;32m--> 324\u001b[0m \u001b[38;5;28;01mreturn\u001b[39;00m \u001b[43mio_open\u001b[49m\u001b[43m(\u001b[49m\u001b[43mfile\u001b[49m\u001b[43m,\u001b[49m\u001b[43m \u001b[49m\u001b[38;5;241;43m*\u001b[39;49m\u001b[43margs\u001b[49m\u001b[43m,\u001b[49m\u001b[43m \u001b[49m\u001b[38;5;241;43m*\u001b[39;49m\u001b[38;5;241;43m*\u001b[39;49m\u001b[43mkwargs\u001b[49m\u001b[43m)\u001b[49m\n",
      "\u001b[0;31mFileNotFoundError\u001b[0m: [Errno 2] No such file or directory: 'test.txt'"
     ]
    }
   ],
   "source": [
    "# Read a file line by line\n",
    "# This is a simple example how you can read a file line by line\n",
    "with open('test.txt', 'r') as file:\n",
    "    file_iterator = iter(file)\n",
    "    for line in file_iterator:\n",
    "        print(line.strip())"
   ]
  }
 ],
 "metadata": {
  "kernelspec": {
   "display_name": "Python 3",
   "language": "python",
   "name": "python3"
  },
  "language_info": {
   "codemirror_mode": {
    "name": "ipython",
    "version": 3
   },
   "file_extension": ".py",
   "mimetype": "text/x-python",
   "name": "python",
   "nbconvert_exporter": "python",
   "pygments_lexer": "ipython3",
   "version": "3.11.8"
  }
 },
 "nbformat": 4,
 "nbformat_minor": 2
}
