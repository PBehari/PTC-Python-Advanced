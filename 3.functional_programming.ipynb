{
 "cells": [
  {
   "cell_type": "markdown",
   "metadata": {},
   "source": [
    "<h5><b>Functional Programming</b></h5>\n",
    "<b>SOURCES:</b><br>\n",
    "<a href=\"https://www.geeksforgeeks.org/functional-programming-in-python/\">Functional Programming in Python | Geeksforgeeks</a>\n",
    "<br>\n",
    "<a href=\"https://www.datamentor.io/python/recursive-function\">Python Recursion | Datamentor</a>"
   ]
  },
  {
   "cell_type": "code",
   "execution_count": null,
   "metadata": {},
   "outputs": [],
   "source": [
    "# Functional programming is a programming paradigm in which we try to bind everything in pure mathematical functions style. \n",
    "# It is a declarative type of programming style. Its main focus is on “what to solve” in contrast to an imperative style where \n",
    "# the main focus is “how to solve“. It uses expressions instead of statements. An expression is evaluated to produce a \n",
    "# value whereas a statement is executed to assign variables.\n",
    "\n",
    "# Functional programming encourages writing code in a declarative style, \n",
    "# where you describe what you want to achieve rather than detailing how to achieve it. \n",
    "# This can lead to more concise and readable code, especially for certain types of problems."
   ]
  },
  {
   "cell_type": "code",
   "execution_count": null,
   "metadata": {},
   "outputs": [],
   "source": [
    "###\n",
    "### Concepts of Functional Programming\n",
    "###\n",
    "#\n",
    "# Any Functional programming language is expected to follow these concepts.\n",
    "#   - Pure Functions: These functions have two main properties:\n",
    "#       1. they always produce the same output for the same arguments irrespective of anything else.\n",
    "#       2. they have no side-effects i.e. they do modify any argument or global variables or output something.\n",
    "#\n",
    "#   - Recursion: There are no “for” or “while” loop in functional languages. Iteration in functional languages is implemented through recursion.\n",
    "#\n",
    "#   - Functions are First-Class and can be Higher-Order: First-class functions are treated as first-class variable.\n",
    "#     The first-class variables can be passed to functions as a parameter, can be returned from functions or stored in data structures.\n",
    "#\n",
    "#   - Variables are Immutable: In functional programming, we can’t modify a variable after it’s been initialized.\n",
    "#     We can create new variables – but we can’t modify existing variables.\n",
    "#"
   ]
  },
  {
   "cell_type": "code",
   "execution_count": null,
   "metadata": {},
   "outputs": [],
   "source": [
    "# 1. Pure Functions:\n",
    "#    These are functions that always produce the same output for the same input and have no side effects.\n",
    "#    They don't modify anything outside their scope. Example:\n",
    "\n",
    "def add_up(a, b):\n",
    "    return a + b\n",
    "\n",
    "result = add_up(2, 5) # Result will always be 7\n",
    "print(result)"
   ]
  },
  {
   "cell_type": "code",
   "execution_count": null,
   "metadata": {},
   "outputs": [],
   "source": [
    "# 2. Recursion:\n",
    "# In functional programming, there is no concept of for loop or while loop, instead recursion is used.\n",
    "# Recursion is a process in which a function calls itself directly or indirectly.\n",
    "\n",
    "# The program below will call itself infinitely.\n",
    "# Hence, we must include a stopping condition to stop the recursive call.\n",
    "def greet():\n",
    "    print('Hello World!')\n",
    "\n",
    "    # recursive call\n",
    "    greet()\n",
    "\n",
    "# normal function call\n",
    "greet()"
   ]
  },
  {
   "cell_type": "code",
   "execution_count": null,
   "metadata": {},
   "outputs": [],
   "source": [
    "# 2.1 Recursion With Stop Condition\n",
    "\n",
    "def print_number(number):\n",
    "    # print number\n",
    "    print(number)\n",
    "\n",
    "    # stopping condition \n",
    "    if number == 0:\n",
    "        print('Stop Printing') \n",
    "    else: \n",
    "        # recursive call \n",
    "        print_number(number - 1) \n",
    "        \n",
    "print_number(10)"
   ]
  },
  {
   "cell_type": "code",
   "execution_count": null,
   "metadata": {},
   "outputs": [],
   "source": [
    "# 2.2 Sum of Natural Numbers\n",
    "def calculate_sum(num):\n",
    "    # stopping condition\n",
    "    if num == 1:\n",
    "        return 1\n",
    "\n",
    "    # recursive call\n",
    "    return num + calculate_sum(num - 1)\n",
    "\n",
    "result = calculate_sum(4)\n",
    "print(\"Sum:\", result) "
   ]
  },
  {
   "cell_type": "code",
   "execution_count": null,
   "metadata": {},
   "outputs": [],
   "source": [
    "# 3. Functions are First-Class and can be Higher-Order:\n",
    "# First-class objects are handled uniformly throughout. They may be stored in data structures, passed as arguments, or used in control structures.\n",
    "# A programming language is said to support first-class functions if it treats functions as first-class objects.\n",
    "\n",
    "# Properties of first class functions:\n",
    "#   - A function is an instance of the Object type.\n",
    "#   - You can store the function in a variable.\n",
    "#   - You can pass the function as a parameter to another function.\n",
    "#   - You can return the function from a function.\n",
    "#   - You can store them in data structures such as hash tables, lists, …\n",
    "\n",
    "def shout(text):  \n",
    "    return text.upper()  \n",
    "    \n",
    "def whisper(text):  \n",
    "    return text.lower()  \n",
    "    \n",
    "def greet(func):  \n",
    "    # storing the function in a variable  \n",
    "    greeting = func(\"Hi, I am created by a function passed as an argument.\")  \n",
    "    print(greeting)   \n",
    "    \n",
    "greet(shout)  \n",
    "greet(whisper)  "
   ]
  },
  {
   "cell_type": "code",
   "execution_count": null,
   "metadata": {},
   "outputs": [],
   "source": [
    "# 4. Immutable Data:\n",
    "#    In functional programming, data is treated as immutable, meaning once it's created, it can't be changed.\n",
    "#    Python too supports some immutable data types like string, tuple, numeric, etc.\n",
    "#    Example:\n",
    "\n",
    "# String data types \n",
    "immutable_str = \"Mike\"\n",
    "  \n",
    "# changing the values will \n",
    "# raise an error \n",
    "immutable_str[1] = 's'\n",
    "\n",
    "# Tuple example\n",
    "tuple_test = (1, 2, 3)\n",
    "tuple_test[1] = 5"
   ]
  },
  {
   "cell_type": "code",
   "execution_count": null,
   "metadata": {},
   "outputs": [],
   "source": [
    "# 5. Built-in Higher-order functions:\n",
    "# To make the processing of iterable objects like lists and iterator much easier, Python has implemented some commonly used Higher-Order Functions.\n",
    "# These functions return an iterator that is space-efficient. Some of the built-in higher-order functions are:"
   ]
  },
  {
   "cell_type": "code",
   "execution_count": null,
   "metadata": {},
   "outputs": [],
   "source": [
    "# 5.1 Map: map() function returns a list of the results after applying the given function to each item of a given iterable (list, tuple etc.)\n",
    "\n",
    "# Return double of n  \n",
    "def addition(n):  \n",
    "    return n + n  \n",
    "    \n",
    "# We double all numbers using map()  \n",
    "numbers = (1, 2, 3, 4)  \n",
    "results = map(addition, numbers)  \n",
    "  \n",
    "# Does not Print the value \n",
    "print(results) \n",
    "  \n",
    "# For Printing value\n",
    "for result in results: \n",
    "    print(result, end = \" \") "
   ]
  },
  {
   "cell_type": "code",
   "execution_count": null,
   "metadata": {},
   "outputs": [],
   "source": [
    "# 5.1 Filter: The filter() method filters the given sequence with the help of a function that tests each element in the sequence to be true or not.\n",
    "\n",
    "# function that filters vowels  \n",
    "def fun(variable):  \n",
    "      \n",
    "    letters = ['a', 'e', 'i', 'o', 'u', 'p']  \n",
    "      \n",
    "    if (variable in letters):  \n",
    "        return True\n",
    "    else:  \n",
    "        return False\n",
    "    \n",
    "    \n",
    "# sequence  \n",
    "sequence = ['m', 'i', 'k', 'e', 'P', 't', 'c']\n",
    "\n",
    "# using filter function  \n",
    "filtered = filter(fun, sequence)\n",
    "    \n",
    "print('The filtered letters are:')\n",
    "  \n",
    "for s in filtered:  \n",
    "    print(s)  "
   ]
  },
  {
   "cell_type": "code",
   "execution_count": null,
   "metadata": {},
   "outputs": [],
   "source": [
    "# 5.2 Lambda functions: In Python, anonymous function means that a function is without a name. \n",
    "# As we already know that def keyword is used to define the normal functions and the lambda keyword is used to create anonymous functions.\n",
    "# 1) This function can have any number of arguments but only one expression, which is evaluated and returned.\n",
    "# 2) One is free to use lambda functions wherever function objects are required.\n",
    "# 3) You need to keep in your knowledge that lambda functions are syntactically restricted to a single expression.\n",
    "# 4) It has various uses in particular fields of programming besides other types of expressions in functions.\n",
    "\n",
    "square = lambda x: x ** 2\n",
    "result = square(5)  # Result will be 25"
   ]
  }
 ],
 "metadata": {
  "kernelspec": {
   "display_name": "Python 3",
   "language": "python",
   "name": "python3"
  },
  "language_info": {
   "codemirror_mode": {
    "name": "ipython",
    "version": 3
   },
   "file_extension": ".py",
   "mimetype": "text/x-python",
   "name": "python",
   "nbconvert_exporter": "python",
   "pygments_lexer": "ipython3",
   "version": "3.11.8"
  }
 },
 "nbformat": 4,
 "nbformat_minor": 2
}
